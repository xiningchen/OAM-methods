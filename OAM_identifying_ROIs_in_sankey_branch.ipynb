{
 "cells": [
  {
   "cell_type": "markdown",
   "metadata": {
    "collapsed": true,
    "pycharm": {
     "name": "#%% md\n"
    }
   },
   "source": [
    "# Identifying ROIs in Sankey Branches\n",
    "\n",
    "Using the Sankey diagram at the subject level, we found certain branches. In the Sankey diagram, the\n",
    "branch was an estimate of how many nodes switched and we lost the information of *which* nodes switched\n",
    "community assignments. Therefore, here we will implement a way to find which of those nodes actually switched.\n",
    "To do this, we have to consider the number of cycles that the switch occurred."
   ]
  },
  {
   "cell_type": "code",
   "execution_count": 3,
   "outputs": [],
   "source": [
    "import numpy as np\n",
    "import importlib\n",
    "import matplotlib.pyplot as plt\n",
    "import seaborn as sns\n",
    "from collections import Counter\n",
    "\n",
    "import OAM_functions as ov_func\n",
    "import Towlson_group_code.data_io as myFunc\n",
    "import surfer_customizer as surfer\n",
    "\n",
    "FIG_PATH = '../../Ovarian_hormone/Figures/'\n",
    "PICKLE_PATH = '../../Ovarian_hormone/pickles/'\n",
    "\n",
    "all_cycles = myFunc.load_from_pickle('../../Ovarian_hormone/pickles/', 'all_cycles.pkl')\n",
    "ef_input_params = myFunc.load_from_pickle(\"../../Ovarian_hormone/pickles/individual_connectomes/\",\n",
    "                                          \"ef_input_params.pkl\")\n",
    "\n",
    "ef_name_to_idx = {x[0]: x[1] for x in ef_input_params.values()}\n",
    "\n",
    "def get_cycle_adj_matrices(ci):\n",
    "    ef_scan, lf_scan, ml_scan = all_cycles[ci]\n",
    "    idx = ef_name_to_idx[ef_scan+'.pkl']\n",
    "    a1 = myFunc.load_from_pickle(f'../../Ovarian_hormone/pickles/individual_connectomes/{idx}/', ef_scan+'.pkl')\n",
    "    a2 = myFunc.load_from_pickle(f'../../Ovarian_hormone/pickles/individual_connectomes/{idx}/', lf_scan+'.pkl')\n",
    "    a3 = myFunc.load_from_pickle(f'../../Ovarian_hormone/pickles/individual_connectomes/{idx}/', ml_scan+'.pkl')\n",
    "    return [a1, a2, a3]\n",
    "\n",
    "def get_cycle_partitions(ci):\n",
    "    ef_scan, lf_scan, ml_scan = all_cycles[ci]\n",
    "    a1 = myFunc.load_from_pickle(f'../../Ovarian_hormone/pickles/best_subject_auditory/', ef_scan+'_auditory.pkl')\n",
    "    a2 = myFunc.load_from_pickle(f'../../Ovarian_hormone/pickles/hypothesis_tested/',\n",
    "                                 f'cycle_{ci}_LF_partition_auditory_EF.pkl')\n",
    "    a3 = myFunc.load_from_pickle(f'../../Ovarian_hormone/pickles/hypothesis_tested/',\n",
    "                                 f'cycle_{ci}_ML_partition_auditory_LF.pkl')\n",
    "    return [a1, a2, a3]\n",
    "\n",
    "int_to_phase = {0: 'EF', 1: 'LF', 2: 'ML'}\n",
    "phase_to_int = {'EF': 0, 'LF': 1, 'ML': 2}"
   ],
   "metadata": {
    "collapsed": false,
    "pycharm": {
     "name": "#%%\n"
    }
   }
  },
  {
   "cell_type": "markdown",
   "source": [
    "Enter the phase transition (src and destination) and which functional network to check"
   ],
   "metadata": {
    "collapsed": false,
    "pycharm": {
     "name": "#%% md\n"
    }
   }
  },
  {
   "cell_type": "code",
   "execution_count": 6,
   "outputs": [],
   "source": [
    "src_phase = 'EF'\n",
    "dest_phase = 'LF'\n",
    "src_icn = 6\n",
    "dest_icn = 0"
   ],
   "metadata": {
    "collapsed": false,
    "pycharm": {
     "name": "#%%\n"
    }
   }
  },
  {
   "cell_type": "code",
   "execution_count": 7,
   "outputs": [
    {
     "name": "stdout",
     "output_type": "stream",
     "text": [
      "Lim --> DMN between EF and LF\n",
      "Cycle 0: 16.7% moved (8 / 48 nodes)\n",
      "Cycle 2: 16.7% moved (4 / 24 nodes)\n",
      "Cycle 4: 25.0% moved (33 / 132 nodes)\n",
      "Cycle 5: 0.0% moved (0 / 19 nodes)\n",
      "Cycle 7: 45.9% moved (28 / 61 nodes)\n",
      "Cycle 8: 0.0% moved (0 / 7 nodes)\n",
      "Cycle 11: 40.6% moved (39 / 96 nodes)\n",
      "Cycle 12: 72.5% moved (29 / 40 nodes)\n",
      "Cycle 14: 9.72% moved (7 / 72 nodes)\n",
      "Cycle 15: 22.2% moved (8 / 36 nodes)\n",
      "Cycle 16: 50.0% moved (1 / 2 nodes)\n",
      "Cycle 18: 25.9% moved (7 / 27 nodes)\n",
      "Cycle 19: 0.0% moved (0 / 10 nodes)\n",
      "Cycle 21: 59.4% moved (19 / 32 nodes)\n",
      "Cycle 22: 37.9% moved (11 / 29 nodes)\n",
      "Cycle 23: 64.5% moved (20 / 31 nodes)\n",
      "Cycle 24: 56.5% moved (13 / 23 nodes)\n",
      "Cycle 25: 6.67% moved (1 / 15 nodes)\n",
      "Cycle 28: 44.4% moved (4 / 9 nodes)\n",
      "Cycle 29: 9.68% moved (3 / 31 nodes)\n",
      "Avg move %: 0.30218138807968364\n",
      "Max frequency:  7.0\n"
     ]
    },
    {
     "name": "stderr",
     "output_type": "stream",
     "text": [
      "/Users/shine/Documents/MSc/Neuro Research/Ctrb Computation/venv/lib/python3.8/site-packages/seaborn/_decorators.py:36: FutureWarning: Pass the following variables as keyword args: x, y. From version 0.12, the only valid positional argument will be `data`, and passing other arguments without an explicit keyword will result in an error or misinterpretation.\n",
      "  warnings.warn(\n"
     ]
    },
    {
     "name": "stdout",
     "output_type": "stream",
     "text": [
      "50\n",
      "[288, 299, 302, 303, 304, 305, 306, 307, 308, 310, 313, 314, 315, 340, 416, 421, 466, 477, 497, 498, 500, 502, 509, 684, 765, 825, 828, 829, 831, 832, 833, 836, 838, 949, 980, 983, 997, 1000, 1001, 1004, 1005, 1020, 1021, 1027, 1028, 1031, 1032, 1033, 1047, 1048]\n"
     ]
    },
    {
     "data": {
      "text/plain": "<Figure size 432x288 with 1 Axes>",
      "image/png": "[encoded data removed]"
     },
     "metadata": {
      "needs_background": "light"
     },
     "output_type": "display_data"
    }
   ],
   "source": [
    "# threshold = 0\n",
    "print(ov_func.AVG_EF_FN_ACRYNOMS[src_icn], \"-->\", ov_func.AVG_EF_FN_ACRYNOMS[dest_icn], f\"between {src_phase} and {dest_phase}\")\n",
    "\n",
    "node_switch_counter = {}\n",
    "src_list = np.ones(1054)*src_icn\n",
    "dest_list = np.ones(1054)*dest_icn\n",
    "nodes_count = np.zeros(1054)\n",
    "x = []\n",
    "avg_cat_per = []\n",
    "for c in range(30):\n",
    "    if c in ov_func.REMOVE:\n",
    "        continue\n",
    "    cycle_partitions = get_cycle_partitions(c)\n",
    "    src_part = np.array(cycle_partitions[phase_to_int[src_phase]])\n",
    "    dest_part = np.array(cycle_partitions[phase_to_int[dest_phase]])\n",
    "    tar_mov = np.equal(src_part, src_list) * np.equal(dest_part, dest_list)\n",
    "    mov_percent = sum(tar_mov)/sum(np.equal(src_part, src_list))\n",
    "    x.append(mov_percent)\n",
    "\n",
    "    print(f\"Cycle {c}: {mov_percent*100:0.3}% moved ({sum(tar_mov)} / {sum(np.equal(src_part, src_list))} nodes)\")\n",
    "\n",
    "    node_switch_counter[c] = [i for i, t in enumerate(tar_mov) if t == True]\n",
    "    nodes_count[node_switch_counter[c]] += 1\n",
    "\n",
    "# myFunc.save_to_pickle(node_switch_counter, PICKLE_PATH, f'ddROI {ov_func.AVG_EF_FN_ACRYNOMS[src_icn]} {ov_func.AVG_EF_FN_ACRYNOMS[dest_icn]}.pkl')\n",
    "\n",
    "print(\"Avg move %:\", sum(x)/len(x))\n",
    "print(\"Max frequency: \", max(nodes_count))\n",
    "sns.barplot([i for i in range(1054)], nodes_count)\n",
    "nodes_count_filtered = [x if x > 1 else 0 for x in nodes_count ]\n",
    "print(np.count_nonzero(nodes_count_filtered))\n",
    "ddROIs = list(np.nonzero(nodes_count_filtered)[0])\n",
    "print(ddROIs)\n",
    "# myFunc.save_to_pickle(ddROIs, PICKLE_PATH, f'switching_nodes.pkl')\n"
   ],
   "metadata": {
    "collapsed": false,
    "pycharm": {
     "name": "#%%\n"
    }
   }
  },
  {
   "cell_type": "markdown",
   "source": [
    "# Create Gradient LUT files\n",
    "\n",
    "For the set of all switching nodes (nodes_count), export it's LUT file. This file can be loaded into free surfer to\n",
    "look at the nodes that switched in the branch overlayed on a brain surface image. Within free surfer, this image can\n",
    "be compared to another atlas to identify which ROIs the most consistent switching nodes belong to."
   ],
   "metadata": {
    "collapsed": false
   }
  },
  {
   "cell_type": "code",
   "execution_count": 8,
   "outputs": [
    {
     "ename": "FileNotFoundError",
     "evalue": "[Errno 2] No such file or directory: '../Ovarian_hormone/Brain_Atlas/Schaefer2018_1000Parcels_7Networks_order.txt'",
     "output_type": "error",
     "traceback": [
      "\u001B[0;31m---------------------------------------------------------------------------\u001B[0m",
      "\u001B[0;31mFileNotFoundError\u001B[0m                         Traceback (most recent call last)",
      "Input \u001B[0;32mIn [8]\u001B[0m, in \u001B[0;36m<cell line: 2>\u001B[0;34m()\u001B[0m\n\u001B[1;32m      1\u001B[0m importlib\u001B[38;5;241m.\u001B[39mreload(surfer)\n\u001B[0;32m----> 2\u001B[0m \u001B[43msurfer\u001B[49m\u001B[38;5;241;43m.\u001B[39;49m\u001B[43mexport_cortical_surfer_lut_gradient\u001B[49m\u001B[43m(\u001B[49m\u001B[43msrc_icn\u001B[49m\u001B[43m,\u001B[49m\u001B[43m \u001B[49m\u001B[43mnodes_count\u001B[49m\u001B[43m,\u001B[49m\u001B[43m \u001B[49m\u001B[38;5;124;43mf\u001B[39;49m\u001B[38;5;124;43m\"\u001B[39;49m\u001B[38;5;132;43;01m{\u001B[39;49;00m\u001B[43mov_func\u001B[49m\u001B[38;5;241;43m.\u001B[39;49m\u001B[43mAVG_EF_FN_ACRYNOMS\u001B[49m\u001B[43m[\u001B[49m\u001B[43msrc_icn\u001B[49m\u001B[43m]\u001B[49m\u001B[38;5;132;43;01m}\u001B[39;49;00m\u001B[38;5;124;43m to \u001B[39;49m\u001B[38;5;124;43m\"\u001B[39;49m\n\u001B[1;32m      3\u001B[0m \u001B[43m                                                   \u001B[49m\u001B[38;5;124;43mf\u001B[39;49m\u001B[38;5;124;43m\"\u001B[39;49m\u001B[38;5;132;43;01m{\u001B[39;49;00m\u001B[43mov_func\u001B[49m\u001B[38;5;241;43m.\u001B[39;49m\u001B[43mAVG_EF_FN_ACRYNOMS\u001B[49m\u001B[43m[\u001B[49m\u001B[43mdest_icn\u001B[49m\u001B[43m]\u001B[49m\u001B[38;5;132;43;01m}\u001B[39;49;00m\u001B[38;5;124;43m between \u001B[39;49m\u001B[38;5;124;43m\"\u001B[39;49m\n\u001B[1;32m      4\u001B[0m \u001B[43m                                                   \u001B[49m\u001B[38;5;124;43mf\u001B[39;49m\u001B[38;5;124;43m\"\u001B[39;49m\u001B[38;5;132;43;01m{\u001B[39;49;00m\u001B[43msrc_phase\u001B[49m\u001B[38;5;132;43;01m}\u001B[39;49;00m\u001B[38;5;124;43m \u001B[39;49m\u001B[38;5;132;43;01m{\u001B[39;49;00m\u001B[43mdest_phase\u001B[49m\u001B[38;5;132;43;01m}\u001B[39;49;00m\u001B[38;5;124;43m\"\u001B[39;49m\u001B[43m,\u001B[49m\u001B[43m \u001B[49m\u001B[43mplot_colors\u001B[49m\u001B[38;5;241;43m=\u001B[39;49m\u001B[38;5;28;43;01mTrue\u001B[39;49;00m\u001B[43m)\u001B[49m\n\u001B[1;32m      5\u001B[0m surfer\u001B[38;5;241m.\u001B[39mexport_subcortical_surfer_lut_gradient(src_icn, nodes_count, \u001B[38;5;124mf\u001B[39m\u001B[38;5;124m\"\u001B[39m\u001B[38;5;132;01m{\u001B[39;00mov_func\u001B[38;5;241m.\u001B[39mAVG_EF_FN_ACRYNOMS[src_icn]\u001B[38;5;132;01m}\u001B[39;00m\u001B[38;5;124m to \u001B[39m\u001B[38;5;124m\"\u001B[39m\n\u001B[1;32m      6\u001B[0m                                                    \u001B[38;5;124mf\u001B[39m\u001B[38;5;124m\"\u001B[39m\u001B[38;5;132;01m{\u001B[39;00mov_func\u001B[38;5;241m.\u001B[39mAVG_EF_FN_ACRYNOMS[dest_icn]\u001B[38;5;132;01m}\u001B[39;00m\u001B[38;5;124m between \u001B[39m\u001B[38;5;124m\"\u001B[39m\n\u001B[1;32m      7\u001B[0m                                                    \u001B[38;5;124mf\u001B[39m\u001B[38;5;124m\"\u001B[39m\u001B[38;5;132;01m{\u001B[39;00msrc_phase\u001B[38;5;132;01m}\u001B[39;00m\u001B[38;5;124m \u001B[39m\u001B[38;5;132;01m{\u001B[39;00mdest_phase\u001B[38;5;132;01m}\u001B[39;00m\u001B[38;5;124m\"\u001B[39m)\n",
      "File \u001B[0;32m~/Documents/MSc/Neuro Research/Ctrb Computation/surfer_customizer.py:55\u001B[0m, in \u001B[0;36mexport_cortical_surfer_lut_gradient\u001B[0;34m(fn, nodes_freq, fname, plot_colors)\u001B[0m\n\u001B[1;32m     53\u001B[0m max_color \u001B[38;5;241m=\u001B[39m Color(rgb\u001B[38;5;241m=\u001B[39m\u001B[38;5;28mtuple\u001B[39m(np\u001B[38;5;241m.\u001B[39marray(color_rgb[fn])\u001B[38;5;241m/\u001B[39m\u001B[38;5;241m255\u001B[39m))\n\u001B[1;32m     54\u001B[0m gradient_colors \u001B[38;5;241m=\u001B[39m \u001B[38;5;28mlist\u001B[39m(Color(\u001B[38;5;124m\"\u001B[39m\u001B[38;5;124mwhite\u001B[39m\u001B[38;5;124m\"\u001B[39m)\u001B[38;5;241m.\u001B[39mrange_to(max_color, \u001B[38;5;28mint\u001B[39m(\u001B[38;5;28mmax\u001B[39m(nodes_freq))\u001B[38;5;241m+\u001B[39m\u001B[38;5;241m1\u001B[39m))\n\u001B[0;32m---> 55\u001B[0m f \u001B[38;5;241m=\u001B[39m \u001B[38;5;28;43mopen\u001B[39;49m\u001B[43m(\u001B[49m\u001B[43mcortical_lut_f\u001B[49m\u001B[43m,\u001B[49m\u001B[43m \u001B[49m\u001B[38;5;124;43m\"\u001B[39;49m\u001B[38;5;124;43mr\u001B[39;49m\u001B[38;5;124;43m\"\u001B[39;49m\u001B[43m)\u001B[49m\n\u001B[1;32m     56\u001B[0m file_content \u001B[38;5;241m=\u001B[39m f\u001B[38;5;241m.\u001B[39mreadlines()\n\u001B[1;32m     57\u001B[0m f\u001B[38;5;241m.\u001B[39mclose()\n",
      "\u001B[0;31mFileNotFoundError\u001B[0m: [Errno 2] No such file or directory: '../Ovarian_hormone/Brain_Atlas/Schaefer2018_1000Parcels_7Networks_order.txt'"
     ]
    }
   ],
   "source": [
    "importlib.reload(surfer)\n",
    "surfer.export_cortical_surfer_lut_gradient(src_icn, nodes_count, f\"{ov_func.AVG_EF_FN_ACRYNOMS[src_icn]} to \"\n",
    "                                                   f\"{ov_func.AVG_EF_FN_ACRYNOMS[dest_icn]} between \"\n",
    "                                                   f\"{src_phase} {dest_phase}\", plot_colors=True)\n",
    "surfer.export_subcortical_surfer_lut_gradient(src_icn, nodes_count, f\"{ov_func.AVG_EF_FN_ACRYNOMS[src_icn]} to \"\n",
    "                                                   f\"{ov_func.AVG_EF_FN_ACRYNOMS[dest_icn]} between \"\n",
    "                                                   f\"{src_phase} {dest_phase}\")"
   ],
   "metadata": {
    "collapsed": false,
    "pycharm": {
     "name": "#%%\n"
    }
   }
  },
  {
   "cell_type": "markdown",
   "source": [
    "---\n",
    "# Check consistency across cycles of dd-Functional Regions of Interest\n",
    "- [X] DLPFC: 11 cycles showed switching. 10 cycles for right, 7 cycles for left\n",
    "        - Not enforcing src and dest FN assignment but only phase transition: 18 cycles switched, 15 L, 18 R.\n",
    "- [X] dorsal MCC: 7 cycles showed switching. 5 cycles for right, 5 cycles for left\n",
    "        - Not enforcing src and dest FN assignment but only phase transition: 19 cycles switched, 15 L, 16 R.\n",
    "- [X] precuneus Left: 3 cycles showed switching. 3 cycles for left, dne for right\n",
    "        - Not enforcing src and dest FN assignment but only phase transition: 16 cycles switched, 16 L, n/a R.\n",
    "- [X] dorsal PCC: 9 cycles showed switching. 8 cycles for right, 7 cycles for left\n",
    "        - Not enforcing src and dest FN assignment but only phase transition: 19 cycles switched, 17 L, 18 R.\n",
    "- [X] angular gyrus: 7 cycles showed switching. 5 cycles for right, 5 cycles for left\n",
    "        - Not enforcing src and dest FN assignment but only phase transition: 12 cycles switched, 11 L, 11 R."
   ],
   "metadata": {
    "collapsed": false
   }
  },
  {
   "cell_type": "code",
   "execution_count": 9,
   "outputs": [
    {
     "name": "stdout",
     "output_type": "stream",
     "text": [
      "between EF and ML\n",
      "Thalamus Left Left switched in 10 cycles\n",
      "Thalamus Left Right switched in 0 cycles\n",
      "Total unique cycles: 10\n"
     ]
    }
   ],
   "source": [
    "joes_list =  {\"r\": [],\n",
    "              \"l\": [1031]}\n",
    "region_name = \"Thalamus Left\"\n",
    "\n",
    "ddfrois = {\"l\": [x-1 for x in joes_list[\"l\"]], \"r\": [x-1 for x in joes_list[\"r\"]]}\n",
    "\n",
    "src_phase = 'EF'\n",
    "dest_phase = 'ML'\n",
    "icn_pair = []\n",
    "\n",
    "print(f\"between {src_phase} and {dest_phase}\")\n",
    "# src_list = np.ones(1054)*0\n",
    "# dest_list = np.ones(1054)*4\n",
    "frequency_count = {\"l\": 0, \"r\": 0}\n",
    "unique_cycles = set()\n",
    "for c in range(30):\n",
    "    if c in ov_func.REMOVE:\n",
    "        continue\n",
    "    cycle_partitions = get_cycle_partitions(c)\n",
    "    src_part = np.array(cycle_partitions[phase_to_int[src_phase]])\n",
    "    dest_part = np.array(cycle_partitions[phase_to_int[dest_phase]])\n",
    "    # tar_mov = np.equal(src_part, src_list) * np.equal(dest_part, dest_list)\n",
    "    tar_mov = np.invert(np.equal(src_part, dest_part))\n",
    "    switching_nodes = set([i for i, t in enumerate(tar_mov) if t == True])\n",
    "    # Do these switching nodes include nodes that belong to the region of interest?\n",
    "    for s in [\"l\", \"r\"]:\n",
    "        overlap = switching_nodes.intersection(ddfrois[s])\n",
    "        if len(overlap) > 0:\n",
    "            frequency_count[s] += 1\n",
    "            unique_cycles.add(c)\n",
    "            for node_id in overlap:\n",
    "                icn_pair.append((src_part[node_id], dest_part[node_id]))\n",
    "print(f\"{region_name} Left switched in {frequency_count['l']} cycles\")\n",
    "print(f\"{region_name} Right switched in {frequency_count['r']} cycles\")\n",
    "print(f\"Total unique cycles: {len(unique_cycles)}\")"
   ],
   "metadata": {
    "collapsed": false,
    "pycharm": {
     "name": "#%%\n"
    }
   }
  },
  {
   "cell_type": "markdown",
   "source": [
    "After counting moves, see the distribution of the branches"
   ],
   "metadata": {
    "collapsed": false
   }
  },
  {
   "cell_type": "code",
   "execution_count": 10,
   "outputs": [
    {
     "data": {
      "text/plain": "<Figure size 432x288 with 1 Axes>",
      "image/png": "[encoded data removed]"
     },
     "metadata": {
      "needs_background": "light"
     },
     "output_type": "display_data"
    },
    {
     "name": "stdout",
     "output_type": "stream",
     "text": [
      "Unk --> DMN (9)\n",
      "Unk --> vATN (7)\n",
      "DMN --> Vis (6)\n",
      "Unk --> Lim (6)\n",
      "vATN --> DMN (5)\n",
      "Lim --> DMN (5)\n"
     ]
    }
   ],
   "source": [
    "unique_branches = set(icn_pair)\n",
    "branch_freq = []\n",
    "for b in unique_branches:\n",
    "    branch_freq.append((b, np.sum(np.equal(icn_pair, b))))\n",
    "    # print(b, np.sum(np.equal(icn_pair, b)))\n",
    "sorted_freq = sorted(branch_freq, key = lambda k: k[1], reverse=True)\n",
    "top = 10\n",
    "plt.bar([f\"{ov_func.AVG_EF_FN_ACRYNOMS[k[0][0]]} - {ov_func.AVG_EF_FN_ACRYNOMS[k[0][1]]}\" for k in sorted_freq[:top]],\n",
    "        [k[1] for k in sorted_freq[:top]],\n",
    "        [0.5 for _ in sorted_freq][:top], align='center')\n",
    "plt.show()\n",
    "\n",
    "for branch, count in sorted_freq[:top]:\n",
    "    print(f\"{ov_func.AVG_EF_FN_ACRYNOMS[branch[0]]} --> {ov_func.AVG_EF_FN_ACRYNOMS[branch[1]]} ({count})\")"
   ],
   "metadata": {
    "collapsed": false,
    "pycharm": {
     "name": "#%%\n"
    }
   }
  },
  {
   "cell_type": "markdown",
   "source": [
    "Show FN distribution as Pie chart"
   ],
   "metadata": {
    "collapsed": false
   }
  },
  {
   "cell_type": "code",
   "execution_count": 11,
   "outputs": [
    {
     "name": "stdout",
     "output_type": "stream",
     "text": [
      "[[7. 1. 0. 2. 0. 4. 1. 0. 5.]\n",
      " [7. 0. 2. 4. 0. 2. 3. 0. 2.]\n",
      " [8. 1. 3. 2. 0. 5. 1. 0. 0.]]\n"
     ]
    },
    {
     "data": {
      "text/plain": "<Figure size 864x432 with 3 Axes>",
      "image/png": "[encoded data removed]"
     },
     "metadata": {},
     "output_type": "display_data"
    }
   ],
   "source": [
    "pie_data = np.zeros((3,9))\n",
    "node_set = ddfrois['l'] + ddfrois['r']\n",
    "# node_set = ddfrois['r']\n",
    "n = len(node_set)\n",
    "\n",
    "for c in range(30):\n",
    "    if c in ov_func.REMOVE:\n",
    "        continue\n",
    "    cycle_partitions = get_cycle_partitions(c)\n",
    "    for i, p in enumerate(cycle_partitions):\n",
    "        cycle_mod_dict = Counter(np.array(p)[node_set])\n",
    "        for mod, cu in cycle_mod_dict.items():\n",
    "            pie_data[i][mod] += cu\n",
    "\n",
    "print(pie_data/n)\n",
    "fig, ax = plt.subplots(1,3,figsize=(12,6))\n",
    "mylabels = list(ov_func.AVG_EF_FN_ACRYNOMS.values())\n",
    "mycolors = list(ov_func.ICN_COLORS_HEX.values())\n",
    "for i in range(3):\n",
    "    ax[i].pie(pie_data[i], labels=mylabels, colors=mycolors)\n",
    "    ax[i].set_title(int_to_phase[i])\n",
    "plt.suptitle(region_name)\n",
    "# fig.savefig(f\"../Ovarian_hormone/Figures/ddROIs/{region_name} Lim EF ML pie.png\", dpi=300, bbox_inches='tight')\n",
    "plt.show()\n"
   ],
   "metadata": {
    "collapsed": false,
    "pycharm": {
     "name": "#%%\n"
    }
   }
  }
 ],
 "metadata": {
  "kernelspec": {
   "display_name": "Python 3",
   "language": "python",
   "name": "python3"
  },
  "language_info": {
   "codemirror_mode": {
    "name": "ipython",
    "version": 2
   },
   "file_extension": ".py",
   "mimetype": "text/x-python",
   "name": "python",
   "nbconvert_exporter": "python",
   "pygments_lexer": "ipython2",
   "version": "2.7.6"
  }
 },
 "nbformat": 4,
 "nbformat_minor": 0
}