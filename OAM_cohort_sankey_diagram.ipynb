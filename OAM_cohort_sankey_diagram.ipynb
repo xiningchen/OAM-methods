{
 "cells": [
  {
   "cell_type": "markdown",
   "source": [
    "# Average Cycle vs Subject Cycles\n",
    "Compare how similar the moving nodes are in the average cycle vs. subject level cycle. This hints at whether or not\n",
    "the overlap of all subject level cycles will result in something significant. This will also allow us to use statistical\n",
    "test and put a number on similarity of subject lvl to average lvl comparisons. For visualizing the statistical ICN changes,\n",
    "run next block and create Sankey.\n",
    "- For each ICN, compare the ICN's out going distribution between average cycle and subject level cycle\n",
    "- [X] Distribution comparison and plot\n",
    "- [X] Apply distribution comparison to all subject cycles\n",
    "- [X] Change the subject levels so that we're not doing a simple sum. Instead have each individual switching\n",
    "distribution and calculate standard deviation across all subjects. How much is the deviation?"
   ],
   "metadata": {
    "collapsed": false
   }
  },
  {
   "cell_type": "code",
   "execution_count": null,
   "outputs": [],
   "source": [
    "import sys\n",
    "import numpy as np\n",
    "import matplotlib.pyplot as plt\n",
    "import OAM_functions as ov_fct\n",
    "import Towlson_group_code.data_io as myFunc\n",
    "from collections import Counter\n",
    "from tqdm import tqdm\n",
    "import importlib\n",
    "importlib.reload(ov_fct)\n",
    "\n",
    "fn_colors = {\n",
    "    0: \"#FF3333\",\n",
    "    1: \"#66B2FF\",\n",
    "    2: \"#B266FF\",\n",
    "    3: \"#FFB266\",\n",
    "    4: \"#00994C\",\n",
    "    5: \"#FFCCFF\",\n",
    "    6: \"#F5d414\",\n",
    "    7: \"#C90076\",\n",
    "    8: \"#E0E0E0\"\n",
    "}\n",
    "\n",
    "all_cycles = myFunc.load_from_pickle('../Ovarian_hormone/pickles/', 'all_cycles.pkl')"
   ],
   "metadata": {
    "collapsed": false,
    "pycharm": {
     "name": "#%%\n"
    }
   }
  },
  {
   "cell_type": "markdown",
   "source": [
    "# Counting Number of Ppl / ICN Switch\n",
    "To measure the significance of FN behaviors, we use \"number of cycles that had this switch\" as an\n",
    "indication of significance. Definitions:\n",
    "\n",
    "1. FN switch ($fg$): Between EF to LF, 10% of DMN moved to Frontoparietal network.\n",
    "2. Group switch ($\\bar{fg}$): Average the switch % across all subject cycles\n",
    "3. Counting: we count a cycle's FN switch if for *that cycle*, the % of switch > $\\bar{fg}$ + $\\sigma_{fg}$,\n",
    "where $\\bar{fg}$ is the group switch."
   ],
   "metadata": {
    "collapsed": false
   }
  },
  {
   "cell_type": "code",
   "execution_count": null,
   "outputs": [],
   "source": [
    "all_cycles = myFunc.load_from_pickle('../Ovarian_hormone/pickles/', 'all_cycles.pkl')\n",
    "enum = {'EF': 0, 'LF': 1, 'ML': 2}\n",
    "\n",
    "def get_group_behavior(src_icn, phase_1, phase_2, normalize=True):\n",
    "    all_counts = []\n",
    "    for cc in range(30):\n",
    "        cy = all_cycles[cc]\n",
    "        if phase_1 == \"EF\":\n",
    "            a_partition = myFunc.load_from_pickle('../Ovarian_hormone/pickles/best_subject_auditory/', f'{cy[enum[phase_1]]}_auditory.pkl')\n",
    "        if phase_1 == \"LF\":\n",
    "            a_partition = myFunc.load_from_pickle('../Ovarian_hormone/pickles/hypothesis_tested/', f'cycle_{cc}_{phase_1}_partition_auditory_EF.pkl')\n",
    "        b_partition = myFunc.load_from_pickle('../Ovarian_hormone/pickles/hypothesis_tested/', f'cycle_{cc}_{phase_2}_partition_auditory_{phase_1}.pkl')\n",
    "        all_counts.append(get_behavior(a_partition, b_partition, src_icn, normalize))\n",
    "    temp_narray = np.array(all_counts)\n",
    "    return np.mean(temp_narray, axis=0), np.std(temp_narray, axis=0), np.median(temp_narray, axis=0)\n",
    "\n",
    "def get_behavior(src_partition, target_partition, src_icn, normalize=True):\n",
    "    de = Counter(src_partition)[src_icn]\n",
    "    if de == 0:\n",
    "        return np.array([0]*9)\n",
    "    partition_zip = list(zip(src_partition, target_partition))\n",
    "    icount = [0]*9\n",
    "    for i in range(1054):\n",
    "        if partition_zip[i][0] == src_icn:    # src ICN\n",
    "            icount[partition_zip[i][1]] += 1\n",
    "    if normalize:\n",
    "        return np.array(icount)/de\n",
    "    else:\n",
    "        return np.array(icount)"
   ],
   "metadata": {
    "collapsed": false,
    "pycharm": {
     "name": "#%%\n"
    }
   }
  },
  {
   "cell_type": "markdown",
   "source": [
    "# Subject Level Representative Sankey\n",
    "Since we have an ensemble of Sankey, create an artificial Sankey that captures the average of the subject level changes.\n",
    "\n",
    "*Warning*: Code below is \"hard coded\" and is not adaptable. This is meant for a 1-time script to estimate group level changes visually."
   ],
   "metadata": {
    "collapsed": false
   }
  },
  {
   "cell_type": "markdown",
   "source": [
    "### Get average ICN sizes"
   ],
   "metadata": {
    "collapsed": false,
    "pycharm": {
     "name": "#%% md\n"
    }
   }
  },
  {
   "cell_type": "code",
   "execution_count": null,
   "outputs": [],
   "source": [
    "ef_fn_sizes = []\n",
    "lf_fn_sizes = []\n",
    "ml_fn_sizes = []\n",
    "for cc in range(30):\n",
    "    if cc in ov_fct.REMOVE:\n",
    "        continue\n",
    "    cy = all_cycles[cc]\n",
    "    pef = myFunc.load_from_pickle('../Ovarian_hormone/pickles/best_subject_auditory/', f'{cy[0]}_auditory.pkl')\n",
    "    plf = myFunc.load_from_pickle('../Ovarian_hormone/pickles/best_subject_auditory/', f'{cy[1]}_auditory.pkl')\n",
    "    pml = myFunc.load_from_pickle('../Ovarian_hormone/pickles/best_subject_auditory/', f'{cy[2]}_auditory.pkl')\n",
    "    for i in range(9):\n",
    "        ef_fn_sizes.append([Counter(pef)[i] for i in range(9)])\n",
    "        lf_fn_sizes.append([Counter(plf)[i] for i in range(9)])\n",
    "        ml_fn_sizes.append([Counter(pml)[i] for i in range(9)])\n",
    "avg_ef_fn_sizes = np.mean(np.array(ef_fn_sizes), axis=0)\n",
    "print(\"EF: \", avg_ef_fn_sizes)\n",
    "avg_lf_fn_sizes = np.mean(np.array(lf_fn_sizes), axis=0)\n",
    "print(\"LF: \", avg_lf_fn_sizes)\n",
    "avg_ml_fn_sizes = np.mean(np.array(ml_fn_sizes), axis=0)\n",
    "print(\"ML: \", avg_ml_fn_sizes)\n",
    "\n",
    "print(\"Group Average for EF phase: \")\n",
    "avg_ef_fn_sizes = np.rint(avg_ef_fn_sizes)\n",
    "avg_ef_fn_sizes[0] += 1\n",
    "print(avg_ef_fn_sizes, sum(avg_ef_fn_sizes))\n",
    "\n",
    "print(\"Group Average for LF phase: \")\n",
    "avg_lf_fn_sizes = np.rint(avg_lf_fn_sizes)\n",
    "# avg_lf_fn_sizes[-1] -= 1\n",
    "print(avg_lf_fn_sizes, sum(avg_lf_fn_sizes))\n",
    "\n",
    "print(\"Group Average for ML phase: \")\n",
    "avg_ml_fn_sizes = np.rint(avg_ml_fn_sizes)\n",
    "avg_ml_fn_sizes[0] -= 1\n",
    "print(avg_ml_fn_sizes, sum(avg_ml_fn_sizes))\n",
    "\n",
    "group_avg_fn = {\"EF\": avg_ef_fn_sizes.astype(int), \"LF\": avg_lf_fn_sizes.astype(int), \"ML\": avg_ml_fn_sizes.astype(int)}"
   ],
   "metadata": {
    "collapsed": false,
    "pycharm": {
     "name": "#%%\n"
    }
   }
  },
  {
   "cell_type": "markdown",
   "source": [
    "### Estimate ICN Switching Pattern (No filter)\n",
    "For EF-LF, LF-ML, EF-ML\n",
    "- [X] Print out Pattern (for each ICN, largest switch to smallest switch in %)\n",
    "- [X] Group average (*.pkl)\n",
    "- [ ] Group median (*_median.pkl)"
   ],
   "metadata": {
    "collapsed": false
   }
  },
  {
   "cell_type": "code",
   "source": [
    "old_stdout = sys.stdout\n",
    "sys.stdout = open('../Ovarian_hormone/Dump/estimated_icn_switching_pattern_no_filter.txt', 'w')\n",
    "\n",
    "group_avg_ef_partition = []\n",
    "group_avg_lf_partition = []\n",
    "print(\"--------- EF -> LF ---------\")\n",
    "for src_icn in range(9):\n",
    "    icn_N = int(group_avg_fn[\"EF\"][src_icn])\n",
    "    group_avg_ef_partition += [src_icn]*icn_N\n",
    "    grp_behave, grp_err, _ = get_group_behavior(src_icn, \"EF\", \"LF\")\n",
    "    grp_behave_count, _, _ = get_group_behavior(src_icn, \"EF\", \"LF\", normalize=False)\n",
    "\n",
    "    switches = np.rint(grp_behave*icn_N)\n",
    "    if (sum(switches) - icn_N) != 0:\n",
    "        adj = int(sum(switches) - icn_N)\n",
    "        # print(\"Need to adjust by \", adj)\n",
    "        if adj < 0:\n",
    "            max_diff = np.argmax(grp_behave_count - switches)\n",
    "            if abs(adj) <= (int(round(grp_behave_count[max_diff])) - int(round(switches[max_diff]))):\n",
    "                switches[max_diff] += abs(adj);\n",
    "            else:\n",
    "                print(\"UH OH... +\")\n",
    "        else:\n",
    "            # Remove some switching nodes\n",
    "            max_diff = np.argmax(switches - grp_behave_count)\n",
    "            # print(abs(adj), (int(switches[max_diff]) - int(grp_behave_count[max_diff])))\n",
    "            if abs(adj) <= (int(round(switches[max_diff])) - int(round(grp_behave_count[max_diff]))):\n",
    "                # print(f\"adjusted by {adj} @ {max_diff}\")\n",
    "                switches[max_diff] = switches[max_diff] - adj;\n",
    "            else:\n",
    "                print(\"UH OH... -\")\n",
    "    print(f\"{ov_fct.AVG_EF_FN_AUDITORY[src_icn]} Switching Pattern: \")\n",
    "    for i, s in enumerate(switches):\n",
    "        print(f\"\\t|- {ov_fct.AVG_EF_FN_AUDITORY[i]}: {s*100/icn_N:0.2f}% ({int(s)} nodes) +- {grp_err[i]*100:0.2f}%\")\n",
    "        group_avg_lf_partition += [i]*int(round(s))\n",
    "\n",
    "# myFunc.save_to_pickle(group_avg_ef_partition, '../Ovarian_hormone/pickles/', 'group_avg_ef_partition.pkl')\n",
    "# myFunc.save_to_pickle(group_avg_lf_partition, '../Ovarian_hormone/pickles/', 'group_avg_lf_partition.pkl')\n",
    "\n",
    "print(\"--------- LF -> ML ---------\")\n",
    "group_avg_lf_partition_ml = []\n",
    "group_avg_ml_partition = []\n",
    "for src_icn in range(9):\n",
    "    icn_N = Counter(group_avg_lf_partition)[src_icn]\n",
    "    group_avg_lf_partition_ml += [src_icn]*icn_N\n",
    "    grp_behave, grp_err, _ = get_group_behavior(src_icn, \"LF\", \"ML\")\n",
    "    grp_behave_count, _, _ = get_group_behavior(src_icn, \"LF\", \"ML\", normalize=False)\n",
    "\n",
    "    switches = np.rint(grp_behave*icn_N)\n",
    "    if (sum(switches) - icn_N) != 0:\n",
    "        adj = int(sum(switches) - icn_N)\n",
    "        if adj < 0:\n",
    "            max_diff = np.argmax(grp_behave_count - switches)\n",
    "            # print(adj, max_diff, (int(round(grp_behave_count[max_diff])) - int(round(switches[max_diff]))))\n",
    "            if abs(adj) <= (int(round(grp_behave_count[max_diff])) - int(round(switches[max_diff]))):\n",
    "                switches[max_diff] += abs(adj);\n",
    "            else:\n",
    "                while adj != 0:\n",
    "                    max_diff = np.argmax(grp_behave_count - switches)\n",
    "                    max_adj = abs(int(round(grp_behave_count[max_diff])) - int(round(switches[max_diff])))\n",
    "                    if max_adj == 0:\n",
    "                        # print(\"Nothing left to adj. Just just add everything to unknown network.\")\n",
    "                        switches[8] += abs(adj);\n",
    "                        adj = 0\n",
    "                    elif abs(adj) <= max_adj:\n",
    "                        switches[max_diff] += abs(adj);\n",
    "                        adj += abs(adj)\n",
    "                    else:\n",
    "                        switches[max_diff] += max_adj;\n",
    "                        adj += max_adj\n",
    "        else:\n",
    "            max_diff = np.argmax(switches - grp_behave_count)\n",
    "            if abs(adj) <= (int(round(switches[max_diff])) - int(round(grp_behave_count[max_diff]))):\n",
    "                switches[max_diff] = switches[max_diff] - adj;\n",
    "    print(f\"{ov_fct.AVG_EF_FN_AUDITORY[src_icn]} Switching Pattern: \")\n",
    "    for i, s in enumerate(switches):\n",
    "        print(f\"\\t|- {ov_fct.AVG_EF_FN_AUDITORY[i]}: {s*100/icn_N:0.2f}% ({int(s)} nodes) +- {grp_err[i]*100:0.2f}%\")\n",
    "        group_avg_ml_partition += [i]*int(s)\n",
    "\n",
    "# myFunc.save_to_pickle(group_avg_ml_partition, '../Ovarian_hormone/pickles/', 'group_avg_ml_partition.pkl')\n",
    "# myFunc.save_to_pickle(group_avg_lf_partition_ml, '../Ovarian_hormone/pickles/', 'group_avg_lf_partition_ml.pkl')\n",
    "\n",
    "group_avg_ef_partition = []\n",
    "group_avg_ml_partition = []\n",
    "print(\"--------- EF -> ML ---------\")\n",
    "for src_icn in range(9):\n",
    "    icn_N = int(group_avg_fn[\"EF\"][src_icn])\n",
    "    group_avg_ef_partition += [src_icn]*icn_N\n",
    "    grp_behave, grp_err, _ = get_group_behavior(src_icn, \"EF\", \"ML\")\n",
    "    grp_behave_count, _, _ = get_group_behavior(src_icn, \"EF\", \"ML\", normalize=False)\n",
    "\n",
    "    switches = np.rint(grp_behave*icn_N)\n",
    "    if (sum(switches) - icn_N) != 0:\n",
    "        adj = int(sum(switches) - icn_N)\n",
    "        # print(\"Need to adjust by \", adj)\n",
    "        if adj < 0:\n",
    "            # Add some switching nodes\n",
    "            max_diff = np.argmax(grp_behave_count - switches)\n",
    "            # print(max_diff, (int(round(grp_behave_count[max_diff])) - int(round(switches[max_diff]))))\n",
    "            if abs(adj) <= (int(round(grp_behave_count[max_diff])) - int(round(switches[max_diff]))):\n",
    "                switches[max_diff] += abs(adj);\n",
    "            else:\n",
    "                while adj != 0:\n",
    "                    max_diff = np.argmax(grp_behave_count - switches)\n",
    "                    max_adj = abs(int(round(grp_behave_count[max_diff])) - int(round(switches[max_diff])))\n",
    "                    if max_adj == 0:\n",
    "                        # print(\"Nothing left to adj. Just just add everything to unknown network.\")\n",
    "                        switches[8] += abs(adj);\n",
    "                        adj = 0\n",
    "                    elif abs(adj) <= max_adj:\n",
    "                        switches[max_diff] += abs(adj);\n",
    "                        adj += abs(adj)\n",
    "                    else:\n",
    "                        switches[max_diff] += max_adj;\n",
    "                        adj += max_adj\n",
    "        else:\n",
    "            # Remove some switching nodes\n",
    "            max_diff = np.argmax(switches - grp_behave_count)\n",
    "            # print(abs(adj), (int(switches[max_diff]) - int(grp_behave_count[max_diff])))\n",
    "            if abs(adj) <= (int(round(switches[max_diff])) - int(round(grp_behave_count[max_diff]))):\n",
    "                # print(f\"adjusted by {adj} @ {max_diff}\")\n",
    "                switches[max_diff] = switches[max_diff] - adj;\n",
    "            else:\n",
    "                print(\"UH OH... -\")\n",
    "    print(f\"{ov_fct.AVG_EF_FN_AUDITORY[src_icn]} Switching Pattern: \")\n",
    "    for i, s in enumerate(switches):\n",
    "        print(f\"\\t|- {ov_fct.AVG_EF_FN_AUDITORY[i]}: {s*100/icn_N:0.2f}% ({int(s)} nodes) +- {grp_err[i]*100:0.2f}%\")\n",
    "        group_avg_ml_partition += [i]*int(round(s))\n",
    "myFunc.save_to_pickle(group_avg_ml_partition, '../Ovarian_hormone/pickles/', 'group_avg_ml_partition_ef.pkl')\n",
    "sys.stdout = old_stdout"
   ],
   "metadata": {
    "collapsed": false,
    "pycharm": {
     "name": "#%%\n"
    }
   },
   "execution_count": null,
   "outputs": []
  },
  {
   "cell_type": "markdown",
   "source": [
    "### Estimate ICN Switching Pattern > filter\n",
    "For EF-LF, LF-ML, EF-ML\n",
    "- [X] Group avg. > std. dev (*_sig.pkl)\n",
    "- [X] Subject level > null model\n",
    "- [X] Print out Pattern (for each ICN, largest switch to smallest switch in %)"
   ],
   "metadata": {
    "collapsed": false,
    "pycharm": {
     "name": "#%% md\n"
    }
   }
  },
  {
   "cell_type": "code",
   "source": [
    "# old_stdout = sys.stdout\n",
    "# sys.stdout = open('../Ovarian_hormone/Dump/estimated_icn_switching_pattern_sig.txt', 'w')\n",
    "group_avg_ef_partition = []\n",
    "group_avg_lf_partition = []\n",
    "print(\"--------- EF -> LF ---------\")\n",
    "for src_icn in range(9):\n",
    "    icn_N = int(group_avg_fn[\"EF\"][src_icn])\n",
    "    group_avg_ef_partition += [src_icn]*icn_N\n",
    "    grp_behave, grp_err, grp_median = get_group_behavior(src_icn, \"EF\", \"LF\")\n",
    "    # grp_behave_count, _, _ = get_group_behavior(src_icn, \"EF\", \"LF\", normalize=False)\n",
    "    sig_behave = grp_behave >= grp_err\n",
    "    for i in range(9):\n",
    "        if i == src_icn:\n",
    "            continue\n",
    "        if not sig_behave[i]:\n",
    "            grp_behave[src_icn] += grp_behave[i]\n",
    "            grp_behave[i] = 0\n",
    "\n",
    "    switches = np.rint(grp_behave*icn_N)\n",
    "    if (sum(switches) - icn_N) != 0:\n",
    "        adj = int(sum(switches) - icn_N)\n",
    "        switches[src_icn] -= adj\n",
    "    print(f\"{ov_fct.AVG_EF_FN_AUDITORY[src_icn]} Switching Pattern: \", sum(switches), icn_N)\n",
    "    for i, s in enumerate(switches):\n",
    "        if int(round(s)) != 0:\n",
    "            print(f\"\\t|- {ov_fct.AVG_EF_FN_AUDITORY[i]}: {s*100/icn_N:0.2f}% ({int(round(s))} nodes) +- {grp_err[i]*100:0.2f}%\")\n",
    "        group_avg_lf_partition += [i]*int(round(s))\n",
    "\n",
    "# print(\"EF: \", sorted(Counter(group_avg_ef_partition).items()))\n",
    "# print(\"LF: \", sorted(Counter(group_avg_lf_partition).items()))\n",
    "# print(sum(Counter(group_avg_lf_partition).values()))\n",
    "# print(sum(Counter(group_avg_ef_partition).values()))\n",
    "# myFunc.save_to_pickle(group_avg_ef_partition, '../Ovarian_hormone/pickles/', 'group_avg_ef_partition_sig.pkl')\n",
    "# myFunc.save_to_pickle(group_avg_lf_partition, '../Ovarian_hormone/pickles/', 'group_avg_lf_partition_sig.pkl')\n",
    "\n",
    "print(\"--------- LF -> ML ---------\")\n",
    "group_avg_lf_partition_ml = []\n",
    "group_avg_ml_partition = []\n",
    "for src_icn in range(9):\n",
    "    icn_N = Counter(group_avg_lf_partition)[src_icn]\n",
    "    group_avg_lf_partition_ml += [src_icn]*icn_N\n",
    "    grp_behave, grp_err, _ = get_group_behavior(src_icn, \"LF\", \"ML\")\n",
    "    # grp_behave_count, _, _ = get_group_behavior(src_icn, \"LF\", \"ML\", normalize=False)\n",
    "\n",
    "    sig_behave = grp_behave >= grp_err\n",
    "    for i in range(9):\n",
    "        if i == src_icn:\n",
    "            continue\n",
    "        if not sig_behave[i]:\n",
    "            grp_behave[src_icn] += grp_behave[i]\n",
    "            grp_behave[i] = 0\n",
    "\n",
    "    switches = np.rint(grp_behave*icn_N)\n",
    "    if (sum(switches) - icn_N) != 0:\n",
    "        adj = int(sum(switches) - icn_N)\n",
    "        switches[src_icn] -= adj\n",
    "    print(f\"{ov_fct.AVG_EF_FN_AUDITORY[src_icn]} Switching Pattern: \", sum(switches), icn_N)\n",
    "    for i, s in enumerate(switches):\n",
    "        if int(round(s)) != 0:\n",
    "            print(f\"\\t|- {ov_fct.AVG_EF_FN_AUDITORY[i]}: {s*100/icn_N:0.2f}% ({int(round(s))} nodes) +- {grp_err[i]*100:0.2f}%\")\n",
    "            group_avg_ml_partition += [i]*int(s)\n",
    "\n",
    "# print(\"LF: \", sorted(Counter(group_avg_lf_partition).items()))\n",
    "# print(\"ML: \", sorted(Counter(group_avg_ml_partition).items()))\n",
    "# print(sum(Counter(group_avg_ml_partition).values()))\n",
    "# print(\"Group avg: \", group_avg_fn[\"ML\"])\n",
    "\n",
    "# myFunc.save_to_pickle(group_avg_ml_partition, '../Ovarian_hormone/pickles/', 'group_avg_ml_partition_sig.pkl')\n",
    "# myFunc.save_to_pickle(group_avg_lf_partition_ml, '../Ovarian_hormone/pickles/', 'group_avg_lf_partition_ml_sig.pkl')\n",
    "\n",
    "group_avg_ef_partition = []\n",
    "group_avg_ml_partition = []\n",
    "print(\"--------- EF -> ML ---------\")\n",
    "for src_icn in range(9):\n",
    "    icn_N = int(group_avg_fn[\"EF\"][src_icn])\n",
    "    group_avg_ef_partition += [src_icn]*icn_N\n",
    "    grp_behave, grp_err, _ = get_group_behavior(src_icn, \"EF\", \"ML\")\n",
    "#     grp_behave_count, _, _ = get_group_behavior(src_icn, \"EF\", \"ML\", normalize=False)\n",
    "\n",
    "    sig_behave = grp_behave >= grp_err\n",
    "    for i in range(9):\n",
    "        if i == src_icn:\n",
    "            continue\n",
    "        if not sig_behave[i]:\n",
    "            grp_behave[src_icn] += grp_behave[i]\n",
    "            grp_behave[i] = 0\n",
    "\n",
    "    switches = np.rint(grp_behave*icn_N)\n",
    "    if (sum(switches) - icn_N) != 0:\n",
    "        adj = int(sum(switches) - icn_N)\n",
    "        switches[src_icn] -= adj\n",
    "    print(f\"{ov_fct.AVG_EF_FN_AUDITORY[src_icn]} Switching Pattern: \", sum(switches), icn_N)\n",
    "    for i, s in enumerate(switches):\n",
    "        if int(round(s)) != 0:\n",
    "            print(f\"\\t|- {ov_fct.AVG_EF_FN_AUDITORY[i]}: {s*100/icn_N:0.2f}% ({int(round(s))} nodes) +- {grp_err[i]*100:0.2f}%\")\n",
    "        group_avg_ml_partition += [i]*int(round(s))\n",
    "\n",
    "# print(sorted(Counter(group_avg_ef_partition).items()))\n",
    "# print(sorted(Counter(group_avg_ml_partition).items()))\n",
    "# print(sum(Counter(group_avg_ml_partition).values()))\n",
    "# print(\"Group avg: \", group_avg_fn[\"ML\"])\n",
    "\n",
    "# myFunc.save_to_pickle(group_avg_ml_partition, '../Ovarian_hormone/pickles/', 'group_avg_ml_partition_ef_sig.pkl')\n",
    "# sys.stdout = old_stdout"
   ],
   "metadata": {
    "collapsed": false,
    "pycharm": {
     "name": "#%%\n"
    }
   },
   "execution_count": null,
   "outputs": []
  },
  {
   "cell_type": "markdown",
   "source": [
    "# Null Model\n",
    "Updated: July 3, 2023\n",
    "\n",
    "Following methods outlined in Bassett2013a, we'll create a *temporal null model* for the subject level Sankey diagram.\n",
    "We'll use this null model as a cut-off to measure significance of a community's temporal evolution.\n",
    "\n",
    "We use a 95% confidence interval for cut-off."
   ],
   "metadata": {
    "collapsed": false
   }
  },
  {
   "cell_type": "code",
   "execution_count": null,
   "outputs": [],
   "source": [
    "from random import shuffle\n",
    "\n",
    "all_cycles = myFunc.load_from_pickle('../Ovarian_hormone/pickles/', 'all_cycles.pkl')\n",
    "ef_input_params = myFunc.load_from_pickle(\"../Ovarian_hormone/pickles/individual_connectomes/\",\n",
    "                                          \"ef_input_params.pkl\")\n",
    "ef_name_to_idx = {x[0]: x[1] for x in ef_input_params.values()}\n",
    "\n",
    "def get_cycle_partitions(ci):\n",
    "    ef_scan, lf_scan, ml_scan = all_cycles[ci]\n",
    "    a1 = myFunc.load_from_pickle(f'../Ovarian_hormone/pickles/best_subject_auditory/', ef_scan+'_auditory.pkl')\n",
    "    a2 = myFunc.load_from_pickle(f'../Ovarian_hormone/pickles/hypothesis_tested/', f'cycle_{ci}_LF_partition_auditory_EF.pkl')\n",
    "    a3 = myFunc.load_from_pickle(f'../Ovarian_hormone/pickles/hypothesis_tested/', f'cycle_{ci}_ML_partition_auditory_LF.pkl')\n",
    "    return [a1, a2, a3]\n",
    "\n",
    "\n",
    "def get_switching_pattern(src_partition, target_partition):\n",
    "    icn_size = Counter(src_partition)\n",
    "    de = [float(icn_size[i]) if i in icn_size.keys() else 0.0 for i in range(9)]\n",
    "    icount = np.array([[0.0]*9 for _ in range(9)])\n",
    "    for i in range(1054):\n",
    "        icount[src_partition[i]][target_partition[i]] += 1.0\n",
    "    for i, div in enumerate(de):\n",
    "        if div == 0.0:\n",
    "            continue\n",
    "        icount[i] = icount[i]/div\n",
    "    return icount"
   ],
   "metadata": {
    "collapsed": false,
    "pycharm": {
     "name": "#%%\n"
    }
   }
  },
  {
   "cell_type": "markdown",
   "source": [
    "For each cycle, there are 3 phases. Under the null hypothesis, there is no connectivity changes associated with phase.\n",
    "Therefore we can shuffle the EF, LF, and ML partitions to calculate a null model. Note that we do not do random permutation\n",
    "because there are at most 6 ways to permute 3 objects (Permute(3,2) = 6). We will account for every permutation of each\n",
    "cycle to generate the null model.\n",
    "\n",
    "The average switching pattern for the null model will be averaged over all cycle's permutations (20*6 = 120)."
   ],
   "metadata": {
    "collapsed": false,
    "pycharm": {
     "name": "#%% md\n"
    }
   }
  },
  {
   "cell_type": "code",
   "source": [
    "n = (20)*6\n",
    "# n = (30)*6\n",
    "print(n)\n",
    "null_switching_pattern = np.zeros((n,9,9))\n",
    "# null_switching_pattern_lf_ml = np.zeros((30000,9,9))\n",
    "rep_i = 0\n",
    "n = 0\n",
    "for c in tqdm(range(30)):\n",
    "    cycle_partitions = get_cycle_partitions(c)\n",
    "    if c in ov_fct.REMOVE:\n",
    "        continue\n",
    "    for p1, p2 in [(0,1), (1,0), (0,2), (2,0), (2,1), (1,2)]:\n",
    "        null_switching_pattern[rep_i] = get_switching_pattern(cycle_partitions[p1], cycle_partitions[p2])\n",
    "        rep_i += 1\n",
    "        n += 1\n",
    "print(n)\n",
    "m, _, ubound = ov_fct.mean_confidence_interval(null_switching_pattern)\n",
    "null_switching_pattern = ubound\n",
    "np.fill_diagonal(null_switching_pattern,0)\n",
    "# print(null_switching_pattern)"
   ],
   "metadata": {
    "collapsed": false,
    "pycharm": {
     "name": "#%%\n"
    }
   },
   "execution_count": null,
   "outputs": []
  },
  {
   "cell_type": "markdown",
   "source": [
    "Calculate subject level switching pattern"
   ],
   "metadata": {
    "collapsed": false,
    "pycharm": {
     "name": "#%% md\n"
    }
   }
  },
  {
   "cell_type": "code",
   "execution_count": null,
   "outputs": [],
   "source": [
    "n = 30 - len(ov_fct.REMOVE)\n",
    "print(\"n = \", n)\n",
    "subject_switching_pattern_ef_lf = np.zeros((n,9,9))\n",
    "subject_switching_pattern_lf_ml = np.zeros((n,9,9))\n",
    "subject_switching_pattern_ml_ef = np.zeros((n,9,9))\n",
    "subject_switching_pattern_ef_ml = np.zeros((n,9,9))\n",
    "n = 0\n",
    "for c in tqdm(range(30)):\n",
    "    if c in ov_fct.REMOVE:\n",
    "        continue\n",
    "    cycle_partitions = get_cycle_partitions(c)\n",
    "    subject_switching_pattern_ef_lf[n] = get_switching_pattern(cycle_partitions[0], cycle_partitions[1])\n",
    "    subject_switching_pattern_lf_ml[n] = get_switching_pattern(cycle_partitions[1], cycle_partitions[2])\n",
    "    subject_switching_pattern_ml_ef[n] = get_switching_pattern(cycle_partitions[2], cycle_partitions[0])\n",
    "    subject_switching_pattern_ef_ml[n] = get_switching_pattern(cycle_partitions[0], cycle_partitions[2])\n",
    "    n += 1\n",
    "print(n)\n",
    "subject_switching_pattern_ef_lf = np.mean(subject_switching_pattern_ef_lf, axis=0)\n",
    "subject_switching_pattern_lf_ml = np.mean(subject_switching_pattern_lf_ml, axis=0)\n",
    "subject_switching_pattern_ml_ef = np.mean(subject_switching_pattern_ml_ef, axis=0)\n",
    "subject_switching_pattern_ef_ml = np.mean(subject_switching_pattern_ef_ml, axis=0)"
   ],
   "metadata": {
    "collapsed": false,
    "pycharm": {
     "name": "#%%\n"
    }
   }
  },
  {
   "cell_type": "code",
   "source": [
    "print(n)"
   ],
   "metadata": {
    "collapsed": false,
    "pycharm": {
     "name": "#%%\n"
    }
   },
   "execution_count": null,
   "outputs": []
  },
  {
   "cell_type": "markdown",
   "source": [
    "Plot filtered subject switching pattern for EF - LF transition."
   ],
   "metadata": {
    "collapsed": false
   }
  },
  {
   "cell_type": "code",
   "source": [
    "import seaborn as sns\n",
    "P = {'Subject': subject_switching_pattern_ef_lf*100, 'Null Model': null_switching_pattern*100,\n",
    "     'Filtered': subject_switching_pattern_ef_lf*(subject_switching_pattern_ef_lf > null_switching_pattern)*100}\n",
    "\n",
    "fig, ax = plt.subplots(1,3, figsize=(14,6))\n",
    "for ax_i, phase in enumerate(['Subject', 'Null Model', 'Filtered']):\n",
    "    c = ax[ax_i].matshow(P[phase], cmap=sns.color_palette(\"magma\", as_cmap=True), vmin=0, vmax=100)\n",
    "    ax[ax_i].xaxis.set_ticks_position('bottom')\n",
    "    ax[ax_i].set_xlabel(\"Functional Network\")\n",
    "    ax[ax_i].set_title(phase)\n",
    "    ax[ax_i].set_xticks([i for i in range(9)])\n",
    "    ax[ax_i].set_xticklabels([ov_fct.AVG_EF_FN_ACRYNOMS[i] for i in range(9)], rotation=45)\n",
    "    ax[ax_i].set_yticks([i for i in range(9)])\n",
    "    ax[ax_i].set_yticklabels([ov_fct.AVG_EF_FN_ACRYNOMS[i] for i in range(9)])\n",
    "    if ax_i == 0:\n",
    "        ax[ax_i].set_ylabel(\"Functional Network\")\n",
    "\n",
    "fig.subplots_adjust(right=0.8)\n",
    "cbar_ax = fig.add_axes([0.82, 0.3, 0.02, 0.4])\n",
    "cbar = fig.colorbar(c, cax=cbar_ax)\n",
    "cbar.set_label(\"Switching %\", rotation=270, labelpad=15)\n",
    "# plt.savefig(f\"../Ovarian_hormone/Figures/network diagnosis/Null model EF LF.png\", dpi=300, bbox_inches='tight')\n",
    "plt.show()"
   ],
   "metadata": {
    "collapsed": false,
    "pycharm": {
     "name": "#%%\n"
    }
   },
   "execution_count": null,
   "outputs": []
  },
  {
   "cell_type": "markdown",
   "source": [
    "Plot filtered subject switching pattern for LF - ML transition."
   ],
   "metadata": {
    "collapsed": false,
    "pycharm": {
     "name": "#%% md\n"
    }
   }
  },
  {
   "cell_type": "code",
   "source": [
    "P = {'Subject': subject_switching_pattern_lf_ml*100, 'Null Model': null_switching_pattern*100,\n",
    "     'Filtered': subject_switching_pattern_lf_ml*(subject_switching_pattern_lf_ml > null_switching_pattern)*100}\n",
    "\n",
    "fig, ax = plt.subplots(1,3, figsize=(14,6))\n",
    "for ax_i, phase in enumerate(['Subject', 'Null Model', 'Filtered']):\n",
    "    c = ax[ax_i].matshow(P[phase], cmap=sns.color_palette(\"magma\", as_cmap=True), vmin=0, vmax=100)\n",
    "    ax[ax_i].xaxis.set_ticks_position('bottom')\n",
    "    ax[ax_i].set_xlabel(\"Functional Network\")\n",
    "    ax[ax_i].set_xticks([i for i in range(9)])\n",
    "    ax[ax_i].set_xticklabels([ov_fct.AVG_EF_FN_ACRYNOMS[i] for i in range(9)], rotation=45)\n",
    "    ax[ax_i].set_yticks([i for i in range(9)])\n",
    "    ax[ax_i].set_yticklabels([ov_fct.AVG_EF_FN_ACRYNOMS[i] for i in range(9)])\n",
    "    ax[ax_i].set_title(phase)\n",
    "    if ax_i == 0:\n",
    "        ax[ax_i].set_ylabel(\"Functional Network\")\n",
    "fig.subplots_adjust(right=0.8)\n",
    "cbar_ax = fig.add_axes([0.82, 0.3, 0.02, 0.4])\n",
    "cbar = fig.colorbar(c, cax=cbar_ax)\n",
    "cbar.set_label(\"Switching %\", rotation=270, labelpad=15)\n",
    "# plt.savefig(f\"../Ovarian_hormone/Figures/network diagnosis/Null model LF ML.png\", dpi=300, bbox_inches='tight')\n",
    "plt.show()"
   ],
   "metadata": {
    "collapsed": false,
    "pycharm": {
     "name": "#%%\n"
    }
   },
   "execution_count": null,
   "outputs": []
  },
  {
   "cell_type": "markdown",
   "source": [
    "Plot filtered subject switching pattern for EF - ML transition."
   ],
   "metadata": {
    "collapsed": false,
    "pycharm": {
     "name": "#%% md\n"
    }
   }
  },
  {
   "cell_type": "code",
   "execution_count": null,
   "outputs": [],
   "source": [
    "P = {'Subject': subject_switching_pattern_ef_ml*100, 'Null Model': null_switching_pattern*100,\n",
    "     'Filtered': subject_switching_pattern_ef_ml*(subject_switching_pattern_ef_ml > null_switching_pattern)*100}\n",
    "\n",
    "fig, ax = plt.subplots(1,3, figsize=(14,6))\n",
    "for ax_i, phase in enumerate(['Subject', 'Null Model', 'Filtered']):\n",
    "    c = ax[ax_i].matshow(P[phase], cmap=sns.color_palette(\"magma\", as_cmap=True), vmin=0, vmax=100)\n",
    "    ax[ax_i].xaxis.set_ticks_position('bottom')\n",
    "    ax[ax_i].set_xlabel(\"Functional Network\")\n",
    "    ax[ax_i].set_xticks([i for i in range(9)])\n",
    "    ax[ax_i].set_xticklabels([ov_fct.AVG_EF_FN_ACRYNOMS[i] for i in range(9)], rotation=45)\n",
    "    ax[ax_i].set_yticks([i for i in range(9)])\n",
    "    ax[ax_i].set_yticklabels([ov_fct.AVG_EF_FN_ACRYNOMS[i] for i in range(9)])\n",
    "    ax[ax_i].set_title(phase)\n",
    "    if ax_i == 0:\n",
    "        ax[ax_i].set_ylabel(\"Functional Network\")\n",
    "fig.subplots_adjust(right=0.8)\n",
    "cbar_ax = fig.add_axes([0.82, 0.3, 0.02, 0.4])\n",
    "cbar = fig.colorbar(c, cax=cbar_ax)\n",
    "cbar.set_label(\"Switching %\", rotation=270, labelpad=15)\n",
    "# plt.savefig(f\"../Ovarian_hormone/Figures/network diagnosis/Null model EF ML.png\", dpi=300, bbox_inches='tight')\n",
    "plt.show()"
   ],
   "metadata": {
    "collapsed": false,
    "pycharm": {
     "name": "#%%\n"
    }
   }
  },
  {
   "cell_type": "markdown",
   "source": [
    "Plot filtered subject switching pattern for ML - EF transition."
   ],
   "metadata": {
    "collapsed": false,
    "pycharm": {
     "name": "#%% md\n"
    }
   }
  },
  {
   "cell_type": "code",
   "execution_count": null,
   "outputs": [],
   "source": [
    "P = {'Subject': subject_switching_pattern_ml_ef*100, 'Null Model': null_switching_pattern*100,\n",
    "     'Filtered': subject_switching_pattern_ml_ef*(subject_switching_pattern_ml_ef > null_switching_pattern)*100}\n",
    "\n",
    "fig, ax = plt.subplots(1,3, figsize=(14,6))\n",
    "for ax_i, phase in enumerate(['Subject', 'Null Model', 'Filtered']):\n",
    "    c = ax[ax_i].matshow(P[phase], cmap=sns.color_palette(\"magma\", as_cmap=True), vmin=0, vmax=100)\n",
    "    ax[ax_i].xaxis.set_ticks_position('bottom')\n",
    "    ax[ax_i].set_xlabel(\"Functional Network\")\n",
    "    ax[ax_i].set_xticks([i for i in range(9)])\n",
    "    ax[ax_i].set_xticklabels([ov_fct.AVG_EF_FN_ACRYNOMS[i] for i in range(9)], rotation=45)\n",
    "    ax[ax_i].set_yticks([i for i in range(9)])\n",
    "    ax[ax_i].set_yticklabels([ov_fct.AVG_EF_FN_ACRYNOMS[i] for i in range(9)])\n",
    "    ax[ax_i].set_title(phase)\n",
    "    if ax_i == 0:\n",
    "        ax[ax_i].set_ylabel(\"Functional Network\")\n",
    "fig.subplots_adjust(right=0.8)\n",
    "cbar_ax = fig.add_axes([0.82, 0.3, 0.02, 0.4])\n",
    "cbar = fig.colorbar(c, cax=cbar_ax)\n",
    "cbar.set_label(\"Switching %\", rotation=270, labelpad=15)\n",
    "# plt.savefig(f\"../Ovarian_hormone/Figures/network diagnosis/Null model EF ML.png\", dpi=300, bbox_inches='tight')\n",
    "plt.show()"
   ],
   "metadata": {
    "collapsed": false,
    "pycharm": {
     "name": "#%%\n"
    }
   }
  },
  {
   "cell_type": "markdown",
   "source": [
    "Generate representative subject level Sankey diagram"
   ],
   "metadata": {
    "collapsed": false
   }
  },
  {
   "cell_type": "code",
   "execution_count": null,
   "outputs": [],
   "source": [
    "group_avg_ef_partition = []\n",
    "group_avg_lf_partition = []\n",
    "grp_behave = subject_switching_pattern_ef_lf*(subject_switching_pattern_ef_lf > null_switching_pattern)\n",
    "# total_n = 0\n",
    "\n",
    "print(\"--------- EF -> LF ---------\")\n",
    "for src_icn in range(9):\n",
    "    icn_N = int(group_avg_fn[\"EF\"][src_icn])\n",
    "    group_avg_ef_partition += [src_icn]*icn_N\n",
    "    sig_behave = grp_behave[src_icn,:]\n",
    "    switches = np.rint(sig_behave*icn_N)\n",
    "    if (sum(switches) - icn_N) != 0:\n",
    "        adj = int(sum(switches) - icn_N)\n",
    "        switches[src_icn] -= adj\n",
    "    print(f\"{ov_fct.AVG_EF_FN_AUDITORY[src_icn]} Switching Pattern: \", sum(switches), icn_N)\n",
    "    for i, s in enumerate(switches):\n",
    "        if int(round(s)) != 0:\n",
    "            print(f\"\\t|- {ov_fct.AVG_EF_FN_AUDITORY[i]}: {s*100/icn_N:0.2f}% ({int(round(s))} nodes)\")\n",
    "        group_avg_lf_partition += [i]*int(round(s))\n",
    "# myFunc.save_to_pickle(group_avg_ef_partition, '../Ovarian_hormone/pickles/', 'group_avg_20_ef_partition_sig_null_model_25092023.pkl')\n",
    "# myFunc.save_to_pickle(group_avg_lf_partition, '../Ovarian_hormone/pickles/', 'group_avg_20_lf_partition_sig_null_model_25092023.pkl')\n",
    "\n",
    "print(\"--------- LF -> ML ---------\")\n",
    "group_avg_lf_partition_ml = []\n",
    "group_avg_ml_partition = []\n",
    "grp_behave = subject_switching_pattern_lf_ml*(subject_switching_pattern_lf_ml > null_switching_pattern)\n",
    "for src_icn in range(9):\n",
    "    icn_N = Counter(group_avg_lf_partition)[src_icn]\n",
    "    group_avg_lf_partition_ml += [src_icn]*icn_N\n",
    "    sig_behave = grp_behave[src_icn,:]\n",
    "    switches = np.rint(sig_behave*icn_N)\n",
    "    if (sum(switches) - icn_N) != 0:\n",
    "        adj = int(sum(switches) - icn_N)\n",
    "        switches[src_icn] -= adj\n",
    "    print(f\"{ov_fct.AVG_EF_FN_AUDITORY[src_icn]} Switching Pattern: \", sum(switches), icn_N)\n",
    "    for i, s in enumerate(switches):\n",
    "        if int(round(s)) != 0:\n",
    "            print(f\"\\t|- {ov_fct.AVG_EF_FN_AUDITORY[i]}: {s*100/icn_N:0.2f}% ({int(round(s))} nodes)\")\n",
    "            group_avg_ml_partition += [i]*int(s)\n",
    "# myFunc.save_to_pickle(group_avg_ml_partition, '../Ovarian_hormone/pickles/', 'group_avg_20_ml_partition_sig_null_model_25092023.pkl')\n",
    "# myFunc.save_to_pickle(group_avg_lf_partition_ml, '../Ovarian_hormone/pickles/', 'group_avg_20_lf_partition_ml_sig_null_model_25092023.pkl')\n",
    "\n",
    "print(\"--------- ML -> EF ---------\")\n",
    "group_avg_ml_partition_ef = []\n",
    "group_avg_ef_partition_2 = []\n",
    "grp_behave = subject_switching_pattern_ml_ef*(subject_switching_pattern_ml_ef > null_switching_pattern)\n",
    "for src_icn in range(9):\n",
    "    icn_N = Counter(group_avg_ml_partition)[src_icn]\n",
    "    group_avg_ml_partition_ef += [src_icn]*icn_N\n",
    "    sig_behave = grp_behave[src_icn,:]\n",
    "    switches = np.rint(sig_behave*icn_N)\n",
    "    if (sum(switches) - icn_N) != 0:\n",
    "        adj = int(sum(switches) - icn_N)\n",
    "        switches[src_icn] -= adj\n",
    "    print(f\"{ov_fct.AVG_EF_FN_AUDITORY[src_icn]} Switching Pattern: \", sum(switches), icn_N)\n",
    "    for i, s in enumerate(switches):\n",
    "        if int(round(s)) != 0:\n",
    "            print(f\"\\t|- {ov_fct.AVG_EF_FN_AUDITORY[i]}: {s*100/icn_N:0.2f}% ({int(round(s))} nodes)\")\n",
    "            group_avg_ef_partition_2 += [i]*int(s)\n",
    "\n",
    "myFunc.save_to_pickle(group_avg_ef_partition_2, '../Ovarian_hormone/pickles/', 'group_avg_20_ef_partition_2_sig_null_model_25092023.pkl')\n",
    "myFunc.save_to_pickle(group_avg_ml_partition_ef, '../Ovarian_hormone/pickles/', 'group_avg_20_ml_partition_ef_sig_null_model_25092023.pkl')\n",
    "\n",
    "# print(\"ML similarity = \", sum(np.array([1 if group_avg_ml_partition_ef[i] == group_avg_ml_partition[i] else 0 for i in range(1054)])))"
   ],
   "metadata": {
    "collapsed": false,
    "pycharm": {
     "name": "#%%\n"
    }
   }
  },
  {
   "cell_type": "markdown",
   "source": [
    "Directly between EF and ML. (not EF - LF - ML)"
   ],
   "metadata": {
    "collapsed": false
   }
  },
  {
   "cell_type": "code",
   "execution_count": null,
   "outputs": [],
   "source": [
    "group_avg_ef_partition = []\n",
    "group_avg_ml_partition = []\n",
    "grp_behave = subject_switching_pattern_ef_ml*(subject_switching_pattern_ef_ml > null_switching_pattern)\n",
    "print(\"--------- EF -> ML ---------\")\n",
    "for src_icn in range(9):\n",
    "    icn_N = int(group_avg_fn[\"EF\"][src_icn])\n",
    "    group_avg_ef_partition += [src_icn]*icn_N\n",
    "    sig_behave = grp_behave[src_icn,:]\n",
    "    switches = np.rint(sig_behave*icn_N)\n",
    "    if (sum(switches) - icn_N) != 0:\n",
    "        adj = int(sum(switches) - icn_N)\n",
    "        switches[src_icn] -= adj\n",
    "    print(f\"{ov_fct.AVG_EF_FN_AUDITORY[src_icn]} Switching Pattern: \", sum(switches), icn_N)\n",
    "    for i, s in enumerate(switches):\n",
    "        if int(round(s)) != 0:\n",
    "            print(f\"\\t|- {ov_fct.AVG_EF_FN_AUDITORY[i]}: {s*100/icn_N:0.2f}% ({int(round(s))} nodes)\")\n",
    "        group_avg_ml_partition += [i]*int(round(s))\n",
    "\n",
    "myFunc.save_to_pickle(group_avg_ml_partition, '../Ovarian_hormone/pickles/',\n",
    "                      'group_avg_20_ml_partition_from_ef_sig_null_model_25092023.pkl')\n",
    "\n",
    "group_avg_ef_partition_2 = []\n",
    "group_avg_ml_partition_ef = []\n",
    "grp_behave = subject_switching_pattern_ml_ef*(subject_switching_pattern_ml_ef > null_switching_pattern)\n",
    "print(\"--------- ML -> EF ---------\")\n",
    "for src_icn in range(9):\n",
    "    icn_N = Counter(group_avg_ml_partition)[src_icn]\n",
    "    group_avg_ml_partition_ef += [src_icn]*icn_N\n",
    "    sig_behave = grp_behave[src_icn,:]\n",
    "    switches = np.rint(sig_behave*icn_N)\n",
    "    if (sum(switches) - icn_N) != 0:\n",
    "        adj = int(sum(switches) - icn_N)\n",
    "        switches[src_icn] -= adj\n",
    "    print(f\"{ov_fct.AVG_EF_FN_AUDITORY[src_icn]} Switching Pattern: \", sum(switches), icn_N)\n",
    "    for i, s in enumerate(switches):\n",
    "        if int(round(s)) != 0:\n",
    "            print(f\"\\t|- {ov_fct.AVG_EF_FN_AUDITORY[i]}: {s*100/icn_N:0.2f}% ({int(round(s))} nodes)\")\n",
    "        group_avg_ef_partition_2 += [i]*int(round(s))\n",
    "\n",
    "myFunc.save_to_pickle(group_avg_ef_partition_2, '../Ovarian_hormone/pickles/',\n",
    "                      'group_avg_20_ef_partition_2_direct_sig_null_model_25092023.pkl')\n",
    "myFunc.save_to_pickle(group_avg_ml_partition_ef, '../Ovarian_hormone/pickles/',\n",
    "                      'group_avg_20_ml_partition_to_ef_sig_null_model_25092023.pkl')"
   ],
   "metadata": {
    "collapsed": false,
    "pycharm": {
     "name": "#%%\n"
    }
   }
  }
 ],
 "metadata": {
  "kernelspec": {
   "display_name": "Python 3",
   "language": "python",
   "name": "python3"
  },
  "language_info": {
   "codemirror_mode": {
    "name": "ipython",
    "version": 2
   },
   "file_extension": ".py",
   "mimetype": "text/x-python",
   "name": "python",
   "nbconvert_exporter": "python",
   "pygments_lexer": "ipython2",
   "version": "2.7.6"
  }
 },
 "nbformat": 4,
 "nbformat_minor": 0
}