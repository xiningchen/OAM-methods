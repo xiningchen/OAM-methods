{
 "cells": [
  {
   "cell_type": "markdown",
   "metadata": {
    "collapsed": true,
    "pycharm": {
     "name": "#%% md\n"
    }
   },
   "source": [
    "# Community Detection Process\n",
    "* Last Updated: 1-March-2023\n",
    "* Pipeline for determining gamma range to run community detection on\n",
    "* Factors that contribute to determining gamma range:\n",
    "    - (1) Percentage of nodes in the top 8 modules\n",
    "    - (2) How well a partition recovers the reference partition\n",
    "    - (3) How much of the Auditory network gets separated into it's own module"
   ]
  },
  {
   "cell_type": "code",
   "execution_count": null,
   "outputs": [],
   "source": [
    "from collections import Counter\n",
    "import pickle as pkl\n",
    "import os\n",
    "import sys\n",
    "import Towlson_group_code.data_io as myFunc\n",
    "import Towlson_group_code.community_detection.functional_brain_community as brain_community\n",
    "import OAM.OAM_functions as ov_fct\n",
    "\n",
    "print(sys.version)\n",
    "BRAINNET_PATH = '../Ovarian_hormone/BrainNet_Viewer/'\n",
    "PICKLE_PATH = '../Ovarian_hormone/pickles/'\n",
    "FIGURE_PATH = '../Ovarian_hormone/Figures/'"
   ],
   "metadata": {
    "collapsed": false,
    "pycharm": {
     "name": "#%%\n"
    }
   }
  },
  {
   "cell_type": "code",
   "execution_count": null,
   "outputs": [],
   "source": [
    "def split_ranges(grange):\n",
    "    j = 0\n",
    "    ranges = []\n",
    "    while j < len(grange):\n",
    "        lower = grange[j]\n",
    "        upper = grange[j+1]\n",
    "        n = round((upper-lower)/0.001)\n",
    "        j += 2\n",
    "        if n == 50:\n",
    "            ranges.append((lower, upper+0.001))\n",
    "        else:\n",
    "            while n > 50:\n",
    "                ranges.append((lower, lower + 50*0.001))\n",
    "                lower = lower + 50*0.001\n",
    "                if lower == upper:\n",
    "                    ranges.append((lower, upper+0.001))\n",
    "                    n = 0\n",
    "                    break\n",
    "                else:\n",
    "                    n = round((upper-lower)/0.001)\n",
    "            if n > 0:\n",
    "                ranges.append((lower, upper+0.001))\n",
    "    return ranges\n",
    "\n",
    "def community_detection2(connectome, gamma):\n",
    "    partitions, modularity = brain_community.get_partitions(connectome, gamma, B='negative_asym', rep = 20)\n",
    "    return partitions, modularity\n",
    "\n",
    "def find_icns(reference_partition, reference_FN_assignment, partition):\n",
    "    ref_modules = ov_fct.get_modules(reference_partition, reference_FN_assignment)\n",
    "    my_modules, partition_norm = ov_fct.get_all_modules(partition)\n",
    "    ref_preference = ov_fct.get_preference_list(ref_modules, my_modules)\n",
    "    pref = ov_fct.get_preference_list(my_modules, ref_modules)\n",
    "    matching = ov_fct.get_poly_matching(pref, ref_preference, poly_threshold=0.6)\n",
    "    merged_partition = ov_fct.merge_poly_modules(partition_norm, matching)\n",
    "    new_modules = ov_fct.get_modules(merged_partition, reference_FN_assignment)\n",
    "\n",
    "    inverse_map = {v: k for k, v in reference_FN_assignment.items()}\n",
    "    fn_overlap = {}\n",
    "    avg_overlap = 0\n",
    "    for fn_name in ['Visual', 'Somamotor', 'DMN', 'Auditory']:\n",
    "        fn_idx = inverse_map[fn_name]\n",
    "        overlap = ref_modules[inverse_map[fn_name]].intersection(new_modules[fn_idx])\n",
    "        denom = len(ref_modules[inverse_map[fn_name]])\n",
    "        if denom == 0:\n",
    "            print(f\"The reference partition is missing the {fn_name} network?!\")\n",
    "            return [], {},0\n",
    "        overlap = (len(overlap)*1.0)/(denom*1.0)\n",
    "        fn_overlap[fn_name] = overlap\n",
    "        if fn_name in ['Visual', 'Auditory']:\n",
    "            avg_overlap += overlap\n",
    "    return merged_partition, fn_overlap, avg_overlap\n",
    "\n",
    "def find_optimal_range(reference_partition, reference_FN_assignment, connectome):\n",
    "    min_g = 1.1\n",
    "    max_g = 1.3\n",
    "    i = 0\n",
    "    history = []\n",
    "    error = False\n",
    "    while (max_g-min_g)/0.001 > 100:\n",
    "        partitions, modularity  = community_detection2(connectome, min_g)\n",
    "        min_partition = brain_community.get_best_partition(partitions)\n",
    "        if len(Counter(min_partition)) < 8:\n",
    "            min_g += 0.05\n",
    "            max_g += 0.05\n",
    "            continue\n",
    "        min_merged_partition, min_fn_overlap, min_avg_overlap = find_icns(reference_partition, reference_FN_assignment, min_partition)\n",
    "        if len(min_merged_partition) == 0:\n",
    "            error = True\n",
    "            break\n",
    "\n",
    "        partitions, modularity = community_detection2(connectome, max_g)\n",
    "        max_partition = brain_community.get_best_partition(partitions)\n",
    "        if len(Counter(max_partition)) < 8:\n",
    "            min_g += 0.1\n",
    "            max_g += 0.1\n",
    "            continue\n",
    "        max_merged_partition, max_fn_overlap, max_avg_overlap = find_icns(reference_partition, reference_FN_assignment, max_partition)\n",
    "        if len(min_merged_partition) == 0:\n",
    "            error = True\n",
    "            break\n",
    "\n",
    "        top_8 = [y for x,y in Counter(min_partition).most_common(8)]\n",
    "        top_8_sum = sum(top_8)\n",
    "        print(f\"\\t Min gamma {min_g}: {len(Counter(min_partition))} communities. {top_8_sum*100/1054:0.2f}% are in top 8.\", min_fn_overlap)\n",
    "        if (top_8_sum*100/1054) > 70:\n",
    "            history.append((min_g, top_8_sum*100/1054, min_fn_overlap['Auditory'], sum(min_fn_overlap.values())))\n",
    "\n",
    "        top_8 = [y for x,y in Counter(max_partition).most_common(8)]\n",
    "        top_8_sum = sum(top_8)\n",
    "        print(f\"\\t Max gamma {max_g}: {len(Counter(max_partition))} communities. {top_8_sum*100/1054:0.2f}% are in top 8.\", max_fn_overlap)\n",
    "        top_8_max = top_8_sum*100/1054\n",
    "        if (top_8_sum*100/1054) > 70:\n",
    "            history.append((max_g, top_8_sum*100/1054, max_fn_overlap['Auditory'], sum(max_fn_overlap.values())))\n",
    "\n",
    "        i += 1\n",
    "        # Do we see good Visual+Auditory at min_g?\n",
    "        if min_fn_overlap['Visual']>=0.75 and min_fn_overlap['Auditory'] >= 0.5:\n",
    "            # print(\"Good overlap @ min: \", min_fn_overlap)\n",
    "            # print(f\"\\t with {len(Counter(min_partition))} communities go merged into {len(Counter(min_merged_partition))}\")\n",
    "            max_g = min_g + 0.12\n",
    "            break\n",
    "        elif max_fn_overlap['Visual']>=0.75 and max_fn_overlap['Auditory'] >= 0.5:\n",
    "            # print(\"Good overlap @ max: \", max_fn_overlap)\n",
    "            # print(f\"\\t with {len(Counter(max_partition))} communities go merged into {len(Counter(max_merged_partition))}\")\n",
    "            min_g += 0.05\n",
    "        else:\n",
    "            if top_8_max < 70:\n",
    "                # Go through the history list and find the best gamma we have\n",
    "                best_history = sorted(history, key = lambda x: x[2], reverse=True)[0]\n",
    "                if best_history[2] < 0.01:\n",
    "                    best_history = sorted(history, key = lambda x: x[3], reverse=True)[0]\n",
    "                # print(\"Best history: \", best_history)\n",
    "                if best_history[1] >= 75:\n",
    "                    return best_history[0] - 0.06, best_history[0] + 0.06\n",
    "                else:\n",
    "                    return best_history[0] - 0.1, best_history[0] + 0.02\n",
    "            else:\n",
    "                min_g = max_g\n",
    "                max_g += 0.12\n",
    "                print(f\"Skipping new range to: {min_g} - {max_g}\")\n",
    "\n",
    "    if error:\n",
    "        return -1, -1\n",
    "\n",
    "    if (max_g - min_g)/0.001 < 120:\n",
    "        return max_g - 0.12, max_g\n",
    "    return min_g, max_g\n",
    "\n",
    "def load_connectome(idx, phase):\n",
    "    path = f'../Ovarian_hormone/pickles/individual_connectomes/{idx}/'\n",
    "    for root, dirs, files in os.walk(path):\n",
    "        for file in files:\n",
    "            if not file.endswith('.pkl'):\n",
    "                continue\n",
    "            if f'{phase}' in file:\n",
    "                with open(root+file, 'rb') as f:\n",
    "                    return pkl.load(f)\n",
    "    return []\n",
    "\n",
    "ef_input_params = myFunc.load_from_pickle(PICKLE_PATH+\"/individual_connectomes/\", \"ef_input_params.pkl\")\n",
    "ef_name_to_idx = {x[0]: x[1] for x in ef_input_params.values()}"
   ],
   "metadata": {
    "collapsed": false,
    "pycharm": {
     "name": "#%%\n"
    }
   }
  },
  {
   "cell_type": "markdown",
   "source": [
    "Load every cycle in and use the previous phase partition as the reference partition. For the EF phase of each\n",
    "individual, the reference partition is the best EF partition of the averaged EF phase connectome."
   ],
   "metadata": {
    "collapsed": false,
    "pycharm": {
     "name": "#%% md\n"
    }
   }
  },
  {
   "cell_type": "code",
   "execution_count": null,
   "outputs": [],
   "source": [
    "all_cycles = myFunc.load_from_pickle('../Ovarian_hormone/pickles/', 'all_cycles.pkl')\n",
    "\n",
    "reference_FN_assignment = ov_fct.AVG_EF_FN_AUDITORY\n",
    "# reference_partition = myFunc.load_from_pickle(PICKLE_PATH, f'EF_best_partition_auditory.pkl')\n",
    "input_params = {}\n",
    "fname_i = 1\n",
    "c = 0\n",
    "bad_refs = []\n",
    "# input_params = myFunc.load_from_pickle('../Ovarian_hormone/pickles/individual_connectomes/', 'ef_input_params.pkl')\n",
    "for ef_name, lf_name, ml_name in all_cycles:\n",
    "    ref_name = ef_name\n",
    "    network_name = ml_name\n",
    "    print(c, ref_name, network_name)\n",
    "    idx = ef_name_to_idx[ef_name+\".pkl\"]\n",
    "    c += 1\n",
    "    # ********************************************************************\n",
    "    reference_partition = myFunc.load_from_pickle(PICKLE_PATH+\"/best_subject_auditory/\", f'{ref_name}_auditory.pkl')\n",
    "    connectome = load_connectome(idx, network_name)\n",
    "    print(f\"Processing {network_name}\")\n",
    "    # ********************************************************************\n",
    "\n",
    "    min_r, max_r = find_optimal_range(reference_partition, reference_FN_assignment, connectome)\n",
    "    if (min_r == -1):\n",
    "        bad_refs.append((c, ref_name))\n",
    "        continue\n",
    "    gamma_ranges = split_ranges([min_r, max_r])\n",
    "    print(\"Returned ranges: \", min_r, max_r, gamma_ranges)\n",
    "    if len(gamma_ranges) != 3:\n",
    "        print(\"****** WARNING ******\")\n",
    "        print(\"\\n\"*2)\n",
    "    input_params[fname_i] = [network_name+\".pkl\", idx, gamma_ranges]\n",
    "    fname_i += 1\n",
    "\n",
    "    print(\"\\n\"*2)\n",
    "    # myFunc.save_to_pickle(input_params, '../Ovarian_hormone/pickles/individual_connectomes/', 'ml_input_params_2.pkl')"
   ],
   "metadata": {
    "collapsed": false,
    "pycharm": {
     "name": "#%%\n"
    }
   }
  },
  {
   "cell_type": "markdown",
   "source": [
    "---\n",
    "# Community Detection of Yeo et al.\n",
    "Code for assembling partition info from LUT file for Yeo et al's cortical parcellation.\n",
    "- DO NOT USE FOR OTHER PURPOSES"
   ],
   "metadata": {
    "collapsed": false
   }
  },
  {
   "cell_type": "markdown",
   "source": [
    "### Calculating color distance\n",
    "Conclusion:\n",
    "- If delta_e (color distance) is > 10, color changed.\n",
    "- Extracting partition list of Yeo et al.'s 7 network partition: new_lut"
   ],
   "metadata": {
    "collapsed": false
   }
  },
  {
   "cell_type": "code",
   "execution_count": null,
   "outputs": [],
   "source": [
    "from colormath.color_objects import sRGBColor, LabColor\n",
    "from colormath.color_conversions import convert_color\n",
    "from colormath.color_diff import delta_e_cie2000\n",
    "\n",
    "def update_color_sample(a_color, my_sample, my_lut):\n",
    "    # Check if new color is inside color sample. If it is, we've seen this color before.\n",
    "    new_color = True\n",
    "    community_num = -1\n",
    "    for j, color in enumerate(my_sample):\n",
    "        delta_c = delta_e_cie2000(a_color, color)\n",
    "        if delta_c < 10:\n",
    "            new_color = False\n",
    "            my_lut.append(j+1)\n",
    "            community_num = j+1\n",
    "            break\n",
    "    if new_color:\n",
    "        my_sample.append(a_color)\n",
    "        community_num = len(my_sample)\n",
    "        my_lut.append(community_num)\n",
    "    return my_sample, my_lut, community_num\n",
    "\n",
    "# lut_f = '../Ovarian_hormone/Brain_Atlas/Schaefer2018_1000Parcels_7Networks_order.lut'\n",
    "# lut_f = '../Ovarian_hormone/Brain_Atlas/Schaefer2018_1000Parcels_17Networks_order.lut'\n",
    "lut_f = '../PREVENT_Study/Brain_Atlas/Schaefer2018_200Parcels_7Networks_order.lut'\n",
    "f = open(lut_f, \"r\")\n",
    "file_content = f.readlines()\n",
    "prev_lab_color = None\n",
    "# List of unique colors in LUT file\n",
    "color_sample = []\n",
    "new_lut = []\n",
    "current_community = -1\n",
    "for i, l in enumerate(file_content):\n",
    "    line = l.strip()\n",
    "    line = line.split(\" \")\n",
    "    if i == 0:\n",
    "        c = sRGBColor(float(line[1]), float(line[2]), float(line[3]))\n",
    "        prev_lab_color = convert_color(c, LabColor)\n",
    "        # First color always unique. Add to color sample.\n",
    "        color_sample.append(prev_lab_color)\n",
    "        current_community = len(color_sample)\n",
    "        new_lut.append(current_community)\n",
    "        continue\n",
    "    r = float(line[1])\n",
    "    g = float(line[2])\n",
    "    b = float(line[3])\n",
    "    current_color = sRGBColor(r, g, b)\n",
    "    current_lab_color = convert_color(current_color, LabColor)\n",
    "    delta_e = delta_e_cie2000(current_lab_color, prev_lab_color)\n",
    "    if delta_e > 10:\n",
    "        # print(i, i+1, line[4], delta_e)\n",
    "        color_sample, new_lut, current_community = update_color_sample(current_lab_color, color_sample, new_lut)\n",
    "    else:\n",
    "        # Same color => same community\n",
    "        new_lut.append(current_community)\n",
    "    prev_lab_color = current_lab_color"
   ],
   "metadata": {
    "collapsed": false,
    "pycharm": {
     "name": "#%%\n"
    }
   }
  },
  {
   "cell_type": "code",
   "execution_count": null,
   "outputs": [],
   "source": [
    "# Yeo et al's partition constructed. Saving:\n",
    "PICKLE_PATH = '../PREVENT_Study/pickles/'\n",
    "myFunc.save_to_pickle(new_lut, PICKLE_PATH, 'yeo_7_network_partition_200')"
   ],
   "metadata": {
    "collapsed": false,
    "pycharm": {
     "name": "#%%\n"
    }
   }
  },
  {
   "cell_type": "markdown",
   "source": [
    "# Comparing Yeo et al's 7 partition network to our partitions\n",
    "Calculate NMI value between Yeo's partition with our best partitions.\n",
    "- [X] EF\n",
    "- [X] LF\n",
    "- [X] ML"
   ],
   "metadata": {
    "collapsed": false
   }
  },
  {
   "cell_type": "code",
   "execution_count": null,
   "outputs": [],
   "source": [
    "from sklearn.metrics.cluster import normalized_mutual_info_score\n",
    "my_best_partition_files = ['EF_best_partition_76-26-09-2022.pkl', 'LF_best_partition_91-26-09-2022.pkl', 'ML_best_partition_7-26-09-2022.pkl']\n",
    "# yeo_partition_file = 'yeo_7_network_partition.pkl'\n",
    "yeo_partition_file = 'yeo_17_network_partition.pkl'\n",
    "yeo_partition = myFunc.load_from_pickle(PICKLE_PATH, yeo_partition_file)\n",
    "\n",
    "for file in my_best_partition_files:\n",
    "    my_partition = myFunc.load_from_pickle(PICKLE_PATH, file)\n",
    "    my_cortical = my_partition[:1000]\n",
    "    nmi = normalized_mutual_info_score(yeo_partition, my_cortical)\n",
    "    print(f\"{file[:2]} partition has a NMI value of {nmi} compared to Yeo's 17 network partition.*\")\n",
    "\n",
    "print(\"*WARNING: comparison done above only uses cortical data since Yeo et al. did not have subcortical data.\")"
   ],
   "metadata": {
    "collapsed": false,
    "pycharm": {
     "name": "#%%\n"
    }
   }
  },
  {
   "cell_type": "markdown",
   "source": [
    "# Subject Level Community Detection preparation for ARC\n",
    "## Print out correctly divided gamma ranges for running on ARC\n",
    "On ARC if the community detection goes above 50 gamma checks, it may end due to memory out of bound or time exceeded.\n",
    "Hence it is best to divide the desired gamma range to subranges of maximum 50 gammas. Script below will take the desired range\n",
    "and split it accordingly to create the start and end input conditions for running subject level community detection on ARC."
   ],
   "metadata": {
    "collapsed": false
   }
  },
  {
   "cell_type": "code",
   "execution_count": null,
   "outputs": [],
   "source": [
    "PICKLE_PATH = '../Ovarian_hormone/pickles/individual_connectomes/'\n",
    "redo_gamma_ranges = myFunc.load_from_pickle(PICKLE_PATH,'gamma_ranges_3.pkl')\n",
    "\n",
    "# gamma_ranges = myFunc.load_from_pickle(PICKLE_PATH,'gamma_ranges_1.pkl')\n",
    "IDX_LIST = [0,1,10,12,13,14,15,18,2,20,22,23,27,28,29,3,4,5,6,7,8,9]\n",
    "\n",
    "def load_data_filenames(idx, N):\n",
    "    path = f'../Ovarian_hormone/ARC/subject_level/Rough_Gamma_Results/{idx}'\n",
    "    data_list = []\n",
    "    for root, dirs, files in os.walk(path):\n",
    "        for file in files:\n",
    "            if not file.endswith('.pkl'):\n",
    "                continue\n",
    "            if f'gamma-{N}' in file:\n",
    "                data_list.append(file)\n",
    "    return data_list\n",
    "\n",
    "def split_ranges(grange):\n",
    "    j = 0\n",
    "    ranges = []\n",
    "    while j < len(grange):\n",
    "        lower = grange[j]\n",
    "        upper = grange[j+1]\n",
    "        n = round((upper-lower)/0.001)\n",
    "        j += 2\n",
    "        if n == 50:\n",
    "            ranges.append((lower, upper+0.001))\n",
    "        else:\n",
    "            while n > 50:\n",
    "                ranges.append((lower, lower + 50*0.001))\n",
    "                lower = lower + 50*0.001\n",
    "                if lower == upper:\n",
    "                    ranges.append((lower, upper+0.001))\n",
    "                    n = 0\n",
    "                    break\n",
    "                else:\n",
    "                    n = round((upper-lower)/0.001)\n",
    "            if n > 0:\n",
    "                ranges.append((lower, upper+0.001))\n",
    "    return ranges\n",
    "\n",
    "i = 0\n",
    "input_params = {}\n",
    "# redo_list = list(redo_gamma_ranges.keys())\n",
    "redo_list = [fn[:13] for fn, r in redo_gamma_ranges.items() if len(r) > 0]\n",
    "print(redo_list)\n",
    "for idx in IDX_LIST:\n",
    "    data_list = load_data_filenames(idx, 1)\n",
    "    for fname in data_list:\n",
    "        name = name = fname[:13]\n",
    "        # ranges = gamma_ranges[fname]\n",
    "        if name in redo_list:\n",
    "            ranges = redo_gamma_ranges[name+\"_result.pkl\"]\n",
    "            new_ranges = split_ranges(ranges)\n",
    "            input_params[i] = [name+\".pkl\", idx, new_ranges]\n",
    "            print(i, idx, name, new_ranges)\n",
    "        i += 1\n",
    "\n",
    "myFunc.save_to_pickle(input_params, path=PICKLE_PATH, pickle_name='input_params_3.pkl')\n",
    "print(\"\\n\"*2)\n",
    "mystr = 'sbatch --array='\n",
    "for k in list(input_params.keys()):\n",
    "    mystr += str(k)+','\n",
    "    if k % 10 == 0 and k != 0:\n",
    "        print(mystr[:-1] + \" \")\n",
    "        mystr = 'sbatch --array='\n",
    "print(mystr[:-1] + \" \")"
   ],
   "metadata": {
    "collapsed": false,
    "pycharm": {
     "name": "#%%\n"
    }
   }
  }
 ],
 "metadata": {
  "kernelspec": {
   "display_name": "Python 3",
   "language": "python",
   "name": "python3"
  },
  "language_info": {
   "codemirror_mode": {
    "name": "ipython",
    "version": 2
   },
   "file_extension": ".py",
   "mimetype": "text/x-python",
   "name": "python",
   "nbconvert_exporter": "python",
   "pygments_lexer": "ipython2",
   "version": "2.7.6"
  }
 },
 "nbformat": 4,
 "nbformat_minor": 0
}