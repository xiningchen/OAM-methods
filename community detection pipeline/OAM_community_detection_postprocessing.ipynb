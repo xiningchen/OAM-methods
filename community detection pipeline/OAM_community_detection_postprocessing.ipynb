{
 "cells": [
  {
   "cell_type": "markdown",
   "metadata": {
    "collapsed": true,
    "pycharm": {
     "name": "#%% md\n"
    }
   },
   "source": [
    "Post-processing of ARC partitions using hypothesis testing."
   ]
  },
  {
   "cell_type": "code",
   "execution_count": null,
   "outputs": [],
   "source": [
    "import pickle as pkl\n",
    "import numpy as np\n",
    "import OAM.OAM_functions as ov_fct\n",
    "import Towlson_group_code.data_io as myFunc\n",
    "import Towlson_group_code.community_detection.functional_brain_community as fbc\n",
    "from tqdm import tqdm\n",
    "from collections import Counter\n",
    "import os"
   ],
   "metadata": {
    "collapsed": false,
    "pycharm": {
     "name": "#%%\n"
    }
   }
  },
  {
   "cell_type": "code",
   "execution_count": null,
   "outputs": [],
   "source": [
    "def hypothesis_test(c, cycle, phase1, phase2):\n",
    "    enum = {'EF': 0, 'LF': 1, 'ML': 2}\n",
    "    if phase1 == 'EF':\n",
    "        a_partition = myFunc.load_from_pickle('../Ovarian_hormone/pickles/best_subject_auditory/',\n",
    "                                              f'{cycle[enum[phase1]]}_auditory.pkl')\n",
    "    if phase1 == 'LF':\n",
    "        a_partition = myFunc.load_from_pickle('../Ovarian_hormone/pickles/hypothesis_tested/',\n",
    "                                              f'cycle_{c}_LF_partition_auditory_EF.pkl')\n",
    "\n",
    "    b_partition = myFunc.load_from_pickle('../Ovarian_hormone/pickles/best_subject_auditory/',\n",
    "                                          f'{cycle[enum[phase2]]}_auditory.pkl')\n",
    "\n",
    "    group_a = myFunc.load_from_pickle('../Ovarian_hormone/pickles/cycle_stats/',\n",
    "                                      f'cycle_{c}_{phase1.lower()}_stats.pkl')\n",
    "    group_b = myFunc.load_from_pickle('../Ovarian_hormone/pickles/cycle_stats/',\n",
    "                                      f'cycle_{c}_{phase2.lower()}_stats.pkl')\n",
    "\n",
    "    print(len(group_a), len(group_b))\n",
    "    N = 1000\n",
    "    accepted = [0] * 9\n",
    "    m = [0] * 9\n",
    "    M = sum([0 if a_partition[n_i] == b_partition[n_i] else 1 for n_i in range(1054)])\n",
    "\n",
    "    for n_i in tqdm(range(1054)):\n",
    "        # Check if ICN assignment for n_i is the same or different between phases\n",
    "        if a_partition[n_i] == b_partition[n_i]:\n",
    "            continue\n",
    "        else:\n",
    "            m[a_partition[n_i]] += 1\n",
    "            # Permutation testing - 2 p values\n",
    "            a = ['A'] * N + ['B'] * N\n",
    "            b = group_a[n_i] + group_b[n_i]\n",
    "            p = permutation_test(a, b, a_partition[n_i], b_partition[n_i], N, num_simulations=1000)\n",
    "            p = p * M\n",
    "\n",
    "            if p < 0.05:\n",
    "                # accepted += 1\n",
    "                accepted[a_partition[n_i]] += 1\n",
    "            else:\n",
    "                # Reject. Place node back to where it was.\n",
    "                b_partition[n_i] = a_partition[n_i]\n",
    "    for i in range(9):\n",
    "        if m[i] != 0:\n",
    "            print(\n",
    "                f\"{ov_fct.AVG_EF_FN_AUDITORY[i]}: total of {m[i]} switching nodes, accepted {accepted[i]} moves, which is {(accepted[i] / m[i]):0.2f}%.\")\n",
    "        else:\n",
    "            print(f\"{ov_fct.AVG_EF_FN_AUDITORY[i]}: no switching nodes. {m[i]}\")\n",
    "    myFunc.save_to_pickle(b_partition, '../Ovarian_hormone/pickles/hypothesis_tested/',\n",
    "                          f'cycle_{c}_{phase2}_partition_auditory_{phase1}.pkl')\n",
    "\n",
    "def permutation_test(x, y, icn1, icn2, N, num_simulations=100000):\n",
    "    obs_1 = Counter(y[:N])[icn1]\n",
    "    obs_2 = Counter(y[N:])[icn2]\n",
    "    simulated_results = 0\n",
    "    for _ in (range(num_simulations)):\n",
    "        s1, s2 = simulate_2_counts(x, y, icn1, icn2)\n",
    "        if (s1 >= obs_1) and (s2 >= obs_2):\n",
    "            simulated_results += 1\n",
    "    return simulated_results / num_simulations\n",
    "\n",
    "def simulate_2_counts(x, y, icn1, icn2):\n",
    "    randomly_shuffled = np.random.permutation(x)\n",
    "    mask = np.where(randomly_shuffled == 'A', True, False)\n",
    "    counts = Counter(mask * y)\n",
    "    r1 = counts[icn1]\n",
    "    counts = Counter((~mask) * y)\n",
    "    r2 = counts[icn2]\n",
    "    return r1, r2\n",
    "\n",
    "def calculate_null_distribution():\n",
    "    # Set up parameters for each subject scan\n",
    "    ef_input_params = myFunc.load_from_pickle(\"../Ovarian_hormone/pickles/individual_connectomes/\",\n",
    "                                              \"ef_input_params.pkl\")\n",
    "    ef_name_to_idx = {x[0]: x[1] for x in ef_input_params.values()}\n",
    "\n",
    "    # Load in cycles to process from spreadsheet\n",
    "    # ------------------------------------------------ TEMP\n",
    "    to_do = myFunc.import_XLSX('../Ovarian_hormone/data/', 'subject_level_analysis.xlsx', index_col=None,\n",
    "                               sheet_name=\"cycles\")\n",
    "    # to_do = to_do.drop(columns=[\"ml_gamma\"], axis=1)\n",
    "    to_do = to_do[to_do['flag'] == 1]\n",
    "    # ------------------------------------------------\n",
    "    # ref_name = 'avg EF'\n",
    "    # reference_partition = myFunc.load_from_pickle('../Ovarian_hormone/pickles/', 'EF_best_partition_auditory.pkl')\n",
    "    for _, row in to_do.iterrows():\n",
    "        c, ef_name, _, scan_name, _, _, gamma_v, _ = row\n",
    "        ref_name = ef_name.strip()\n",
    "        scan_name = scan_name.strip() + '.pkl'\n",
    "        idx = ef_name_to_idx[ef_name.strip() + '.pkl']\n",
    "\n",
    "        print(f\"cycle: {c} | scan \", scan_name, \" and chosen gamma = \", gamma_v, \"Ref: \", ref_name)\n",
    "\n",
    "        reference_partition = myFunc.load_from_pickle('../Ovarian_hormone/pickles/best_subject_auditory/',\n",
    "                                                      f'{ref_name}_auditory.pkl')\n",
    "\n",
    "        _ = generate_extra_partitions(idx, scan_name, c, gamma_v)\n",
    "        partitions_list = generate_extra_partitions(idx, scan_name, c, gamma_v)\n",
    "\n",
    "        stat = [[] for i in range(1054)]\n",
    "        # For node i, check it's FN assignment\n",
    "        for partition in tqdm(partitions_list):\n",
    "            # determine ICNs\n",
    "            fn_assignment, partition_norm = assign_ICNs(partition, reference_partition)\n",
    "\n",
    "            icns = {}\n",
    "            for fn, match_list in fn_assignment.items():\n",
    "                for l in match_list:\n",
    "                    icns[l] = fn\n",
    "            fn_rev = {v: k for k, v in ov_fct.AVG_EF_FN_AUDITORY.items()}\n",
    "            merged_partition = [fn_rev[icns[x]] for x in partition_norm]\n",
    "\n",
    "            for n_i in range(1054):\n",
    "                stat[n_i].append(merged_partition[n_i])\n",
    "\n",
    "        myFunc.save_to_pickle(stat, '../Ovarian_hormone/pickles/cycle_stats/',\n",
    "                              f'cycle_{c}_{scan_name[:2].lower()}_stats.pkl')\n",
    "\n",
    "def generate_extra_partitions(idx, scan_name, c, gamma_v):\n",
    "    path = f'../Ovarian_hormone/ARC/subject_level/subject_auditory/{idx}/'\n",
    "    # path = f'../Ovarian_hormone/ARC/Avg_Results_auditory/'\n",
    "    fname = f'{scan_name[:-4]}_extras.pkl'\n",
    "    if (os.path.exists(path + fname)):\n",
    "        partitions_list = myFunc.load_from_pickle(path, fname)\n",
    "        print(f\"Loaded existing partitions list ({len(partitions_list)})\")\n",
    "        return partitions_list\n",
    "    else:\n",
    "        if c != 'avg':\n",
    "            # Re-run for 3000 iterations of community detection for chosen gamma\n",
    "            with open(f'../Ovarian_hormone/pickles/individual_connectomes/{idx}/{scan_name}', 'rb') as f:\n",
    "                avg_connectome = pkl.load(f)\n",
    "            print(avg_connectome.shape)\n",
    "\n",
    "            p_list, _ = fbc.get_partitions(avg_connectome, gamma=gamma_v, B='negative_asym', rep=1000)\n",
    "            p_list2, _ = fbc.get_partitions(avg_connectome, gamma=gamma_v, B='negative_asym', rep=1000)\n",
    "            myFunc.save_to_pickle(p_list + p_list2,\n",
    "                                  path,\n",
    "                                  f'{scan_name[:-4]}_extras.pkl')\n",
    "            return []\n",
    "        else:\n",
    "            with open(f'../Ovarian_hormone/pickles/average_connectomes/averaged-{scan_name[:2]}-2022-05-09.pkl',\n",
    "                      'rb') as f:\n",
    "                avg_connectome = pkl.load(f)\n",
    "            print(avg_connectome.shape)\n",
    "\n",
    "            p_list, _ = fbc.get_partitions(avg_connectome, gamma=gamma_v, B='negative_asym', rep=1000)\n",
    "            myFunc.save_to_pickle(p_list, path, f'{scan_name[:-4]}_extras.pkl')\n",
    "            return []\n",
    "\n",
    "def assign_ICNs(partition, reference_partition):\n",
    "    reference_FN_assignment = ov_fct.AVG_EF_FN_AUDITORY\n",
    "    # reference_partition = myFunc.load_from_pickle('../Ovarian_hormone/pickles/', f'EF_best_partition_auditory.pkl')\n",
    "\n",
    "    ref_modules = ov_fct.get_modules(reference_partition, reference_FN_assignment)\n",
    "    modules, partition_renorm = ov_fct.get_all_modules(partition)\n",
    "    my_prefs = ov_fct.get_preference_list(modules, ref_modules)\n",
    "    ref_prefs = ov_fct.get_preference_list(ref_modules, modules)\n",
    "\n",
    "    match_to_ref = ov_fct.get_poly_matching(my_prefs, ref_prefs, poly_threshold=0.6)\n",
    "    return match_to_ref, partition_renorm"
   ],
   "metadata": {
    "collapsed": false,
    "pycharm": {
     "name": "#%%\n"
    }
   }
  },
  {
   "cell_type": "markdown",
   "source": [
    "Step 1: Generate null distributions"
   ],
   "metadata": {
    "collapsed": false,
    "pycharm": {
     "name": "#%% md\n"
    }
   }
  },
  {
   "cell_type": "code",
   "execution_count": null,
   "outputs": [],
   "source": [
    "calculate_null_distribution()"
   ],
   "metadata": {
    "collapsed": false,
    "pycharm": {
     "name": "#%%\n"
    }
   }
  },
  {
   "cell_type": "markdown",
   "source": [
    "Step 2: Hypothesis test each cycle"
   ],
   "metadata": {
    "collapsed": false,
    "pycharm": {
     "name": "#%% md\n"
    }
   }
  },
  {
   "cell_type": "code",
   "execution_count": null,
   "outputs": [],
   "source": [
    "all_cycles = myFunc.load_from_pickle('../Ovarian_hormone/pickles/', 'all_cycles.pkl')\n",
    "for c in range(30):\n",
    "    print(c, all_cycles[c])\n",
    "    hypothesis_test(c, all_cycles[c], 'EF', 'LF')\n",
    "    hypothesis_test(c, all_cycles[c], 'LF', 'ML')\n",
    "    hypothesis_test(c, all_cycles[c], 'EF', 'ML')"
   ],
   "metadata": {
    "collapsed": false,
    "pycharm": {
     "name": "#%%\n"
    }
   }
  }
 ],
 "metadata": {
  "kernelspec": {
   "display_name": "Python 3",
   "language": "python",
   "name": "python3"
  },
  "language_info": {
   "codemirror_mode": {
    "name": "ipython",
    "version": 2
   },
   "file_extension": ".py",
   "mimetype": "text/x-python",
   "name": "python",
   "nbconvert_exporter": "python",
   "pygments_lexer": "ipython2",
   "version": "2.7.6"
  }
 },
 "nbformat": 4,
 "nbformat_minor": 0
}