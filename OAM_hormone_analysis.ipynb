{
 "cells": [
  {
   "cell_type": "markdown",
   "source": [
    "# Estradiol + Progesterone Hormone Data\n",
    "Update: May 1, 2023\n",
    "\n",
    "- [X] Linear regression assumes independence. Since our hormone data is not independent, we need to use mixed effect model.\n",
    "- [X] Export csv for mixed effect model in R\n",
    "- [X] [Mixed Effect Model](https://heather-grab.github.io/Entom-4940/mixed.html#introduction_to_mixed_models)\n",
    "    - We have crossed interaction term, which can be accounted for with X*Y\n",
    "    - Check estimated variance of random variables. If ~0, can just use linear model instead\n",
    "    - Check correlation between fixed effects: if highly correlated, have multicollinearity. Would need to construct\n",
    "     separate models and see which covariates to keep.\n",
    "    - Drop terms with highest order, highest p-value first to compare models.\n",
    "- Note that we do not need to drop the 10 mis-timed cycles in the LME model because in our LME we do not use phase\n",
    "at all, instead we use the hormone measurements directly."
   ],
   "metadata": {
    "collapsed": false
   }
  },
  {
   "cell_type": "code",
   "execution_count": 22,
   "outputs": [],
   "source": [
    "import numpy as np\n",
    "import pandas as pd\n",
    "import matplotlib.pyplot as plt\n",
    "import seaborn as sns\n",
    "from tqdm import tqdm\n",
    "import math\n",
    "\n",
    "import OAM_functions as ov_func\n",
    "import Towlson_group_code.data_io as myFunc\n",
    "import Towlson_group_code.brain_network as bnet\n",
    "\n",
    "FIG_PATH = '../../Ovarian_hormone/Figures/hormones/'\n",
    "PICKLE_PATH = '../../Ovarian_hormone/pickles/'\n",
    "phase_map = {0: 'EF', 1: 'LF', 2: 'ML'}"
   ],
   "metadata": {
    "collapsed": false,
    "pycharm": {
     "name": "#%%\n"
    }
   }
  },
  {
   "cell_type": "markdown",
   "source": [
    "Load data"
   ],
   "metadata": {
    "collapsed": false
   }
  },
  {
   "cell_type": "code",
   "execution_count": 23,
   "outputs": [
    {
     "name": "stdout",
     "output_type": "stream",
     "text": [
      "Hormone data:\n",
      "   Cycle Phase  Progesterone  Estradiol\n",
      "0      0    EF          0.12     0.0248\n",
      "1      0    LF           NaN        NaN\n",
      "2      0    ML          5.97     0.1210\n",
      "3      1    EF          0.14     0.0425\n",
      "4      1    LF           NaN        NaN\n"
     ]
    }
   ],
   "source": [
    "all_cycles = myFunc.load_from_pickle('../../Ovarian_hormone/pickles/', 'all_cycles.pkl')\n",
    "ef_input_params = myFunc.load_from_pickle(\"../../Ovarian_hormone/pickles/individual_connectomes/\",\n",
    "                                          \"ef_input_params.pkl\")\n",
    "ef_name_to_idx = {x[0]: x[1] for x in ef_input_params.values()}\n",
    "\n",
    "def get_cycle_adj_matrices(ci):\n",
    "    ef_scan, lf_scan, ml_scan = all_cycles[ci]\n",
    "    idx = ef_name_to_idx[ef_scan+'.pkl']\n",
    "    a1 = myFunc.load_from_pickle(f'../../Ovarian_hormone/pickles/individual_connectomes/{idx}/', ef_scan+'.pkl')\n",
    "    a2 = myFunc.load_from_pickle(f'../../Ovarian_hormone/pickles/individual_connectomes/{idx}/', lf_scan+'.pkl')\n",
    "    a3 = myFunc.load_from_pickle(f'../../Ovarian_hormone/pickles/individual_connectomes/{idx}/', ml_scan+'.pkl')\n",
    "    return [a1, a2, a3]\n",
    "\n",
    "def get_cycle_partitions(ci):\n",
    "    ef_scan, lf_scan, ml_scan = all_cycles[ci]\n",
    "    a1 = myFunc.load_from_pickle(f'../../Ovarian_hormone/pickles/best_subject_auditory/', ef_scan+'_auditory.pkl')\n",
    "    a2 = myFunc.load_from_pickle(f'../../Ovarian_hormone/pickles/hypothesis_tested/',\n",
    "                                 f'cycle_{ci}_LF_partition_auditory_EF.pkl')\n",
    "    a3 = myFunc.load_from_pickle(f'../../Ovarian_hormone/pickles/hypothesis_tested/',\n",
    "                                 f'cycle_{ci}_ML_partition_auditory_LF.pkl')\n",
    "    return [a1, a2, a3]\n",
    "\n",
    "def get_ef_partition(ci):\n",
    "    ef_scan, _, _ = all_cycles[ci]\n",
    "    return myFunc.load_from_pickle(f'../../Ovarian_hormone/pickles/best_subject_auditory/', ef_scan+'_auditory.pkl')\n",
    "\n",
    "hormone_data = myFunc.load_from_pickle(\"../../Ovarian_hormone/pickles/\", \"hormones_df.pkl\")\n",
    "hormone_data[\"Estradiol\"] = hormone_data[\"Estradiol\"]*0.001\n",
    "colors = [ov_func.ICN_COLORS_HEX[icn] for icn in range(9)]\n",
    "print(\"Hormone data:\")\n",
    "print(hormone_data.head(5))"
   ],
   "metadata": {
    "collapsed": false,
    "pycharm": {
     "name": "#%%\n"
    }
   }
  },
  {
   "cell_type": "markdown",
   "source": [
    "Reformat hormone data"
   ],
   "metadata": {
    "collapsed": false,
    "pycharm": {
     "name": "#%% md\n"
    }
   }
  },
  {
   "cell_type": "code",
   "execution_count": 24,
   "outputs": [
    {
     "name": "stdout",
     "output_type": "stream",
     "text": [
      "34\n"
     ]
    },
    {
     "data": {
      "text/plain": "   cycle subject phase     est    pro\n0      0  OAM035    EF  0.0248  0.120\n1      0  OAM035    ML  0.1210  5.970\n2      2  OAM017    EF  0.0339  0.068\n3      2  OAM017    LF  0.0549  0.042\n4      2  OAM017    ML  0.0916  7.850",
      "text/html": "<div>\n<style scoped>\n    .dataframe tbody tr th:only-of-type {\n        vertical-align: middle;\n    }\n\n    .dataframe tbody tr th {\n        vertical-align: top;\n    }\n\n    .dataframe thead th {\n        text-align: right;\n    }\n</style>\n<table border=\"1\" class=\"dataframe\">\n  <thead>\n    <tr style=\"text-align: right;\">\n      <th></th>\n      <th>cycle</th>\n      <th>subject</th>\n      <th>phase</th>\n      <th>est</th>\n      <th>pro</th>\n    </tr>\n  </thead>\n  <tbody>\n    <tr>\n      <th>0</th>\n      <td>0</td>\n      <td>OAM035</td>\n      <td>EF</td>\n      <td>0.0248</td>\n      <td>0.120</td>\n    </tr>\n    <tr>\n      <th>1</th>\n      <td>0</td>\n      <td>OAM035</td>\n      <td>ML</td>\n      <td>0.1210</td>\n      <td>5.970</td>\n    </tr>\n    <tr>\n      <th>2</th>\n      <td>2</td>\n      <td>OAM017</td>\n      <td>EF</td>\n      <td>0.0339</td>\n      <td>0.068</td>\n    </tr>\n    <tr>\n      <th>3</th>\n      <td>2</td>\n      <td>OAM017</td>\n      <td>LF</td>\n      <td>0.0549</td>\n      <td>0.042</td>\n    </tr>\n    <tr>\n      <th>4</th>\n      <td>2</td>\n      <td>OAM017</td>\n      <td>ML</td>\n      <td>0.0916</td>\n      <td>7.850</td>\n    </tr>\n  </tbody>\n</table>\n</div>"
     },
     "execution_count": 24,
     "metadata": {},
     "output_type": "execute_result"
    }
   ],
   "source": [
    "cycle_subj_id = {c: 'OAM'+cycle_phases[0][3:6] for c, cycle_phases in enumerate(all_cycles)}\n",
    "data = {'cycle': [], 'subject': [], 'phase': [], 'est': [], 'pro': []}\n",
    "for r in hormone_data.iterrows():\n",
    "    hrow = r[1]\n",
    "    c = hrow['Cycle']\n",
    "    if math.isnan(hrow['Estradiol']) or math.isnan(hrow['Progesterone']) :\n",
    "        continue\n",
    "    if c in ov_func.REMOVE:\n",
    "        continue\n",
    "    data['cycle'].append(c)\n",
    "    data['subject'].append(cycle_subj_id[c])\n",
    "    data['phase'].append(hrow['Phase'])\n",
    "    data['est'].append(hrow['Estradiol'])\n",
    "    data['pro'].append(hrow['Progesterone'])\n",
    "hormone_df = pd.DataFrame(data = data)\n",
    "\n",
    "print(len(hormone_df))\n",
    "hormone_df.head(5)"
   ],
   "metadata": {
    "collapsed": false,
    "pycharm": {
     "name": "#%%\n"
    }
   }
  },
  {
   "cell_type": "markdown",
   "source": [
    "Violin plot of hormone distributions"
   ],
   "metadata": {
    "collapsed": false,
    "pycharm": {
     "name": "#%% md\n"
    }
   }
  },
  {
   "cell_type": "code",
   "execution_count": 31,
   "outputs": [
    {
     "data": {
      "text/plain": "<Figure size 432x288 with 1 Axes>",
      "image/png": "[encoded data removed]"
     },
     "metadata": {
      "needs_background": "light"
     },
     "output_type": "display_data"
    },
    {
     "data": {
      "text/plain": "  phase       pro          \n             mean       std\n0    EF  0.133650  0.167447\n1    LF  1.647545  3.400506\n2    ML  8.773077  2.063074",
      "text/html": "<div>\n<style scoped>\n    .dataframe tbody tr th:only-of-type {\n        vertical-align: middle;\n    }\n\n    .dataframe tbody tr th {\n        vertical-align: top;\n    }\n\n    .dataframe thead tr th {\n        text-align: left;\n    }\n</style>\n<table border=\"1\" class=\"dataframe\">\n  <thead>\n    <tr>\n      <th></th>\n      <th>phase</th>\n      <th colspan=\"2\" halign=\"left\">pro</th>\n    </tr>\n    <tr>\n      <th></th>\n      <th></th>\n      <th>mean</th>\n      <th>std</th>\n    </tr>\n  </thead>\n  <tbody>\n    <tr>\n      <th>0</th>\n      <td>EF</td>\n      <td>0.133650</td>\n      <td>0.167447</td>\n    </tr>\n    <tr>\n      <th>1</th>\n      <td>LF</td>\n      <td>1.647545</td>\n      <td>3.400506</td>\n    </tr>\n    <tr>\n      <th>2</th>\n      <td>ML</td>\n      <td>8.773077</td>\n      <td>2.063074</td>\n    </tr>\n  </tbody>\n</table>\n</div>"
     },
     "execution_count": 31,
     "metadata": {},
     "output_type": "execute_result"
    }
   ],
   "source": [
    "sns_plot = sns.violinplot(data=hormone_df, x=\"phase\", y=\"pro\", order=[ \"EF\", \"LF\", \"ML\"])\n",
    "fig = sns_plot.get_figure()\n",
    "sns_plot.set(title=\"Progesterone (pg/mL)\")\n",
    "# fig.savefig(\"../Ovarian_hormone/Figures/Progesterone distribution.png\")\n",
    "plt.show()\n",
    "\n",
    "hormone_df.groupby('phase', as_index=False).agg({'pro':['mean','std']})"
   ],
   "metadata": {
    "collapsed": false,
    "pycharm": {
     "name": "#%%\n"
    }
   }
  },
  {
   "cell_type": "code",
   "execution_count": 32,
   "outputs": [
    {
     "data": {
      "text/plain": "<Figure size 432x288 with 1 Axes>",
      "image/png": "[encoded data removed]"
     },
     "metadata": {
      "needs_background": "light"
     },
     "output_type": "display_data"
    },
    {
     "data": {
      "text/plain": "  phase       est          \n             mean       std\n0    EF  0.054470  0.039466\n1    LF  0.175527  0.135708\n2    ML  0.154246  0.064472",
      "text/html": "<div>\n<style scoped>\n    .dataframe tbody tr th:only-of-type {\n        vertical-align: middle;\n    }\n\n    .dataframe tbody tr th {\n        vertical-align: top;\n    }\n\n    .dataframe thead tr th {\n        text-align: left;\n    }\n</style>\n<table border=\"1\" class=\"dataframe\">\n  <thead>\n    <tr>\n      <th></th>\n      <th>phase</th>\n      <th colspan=\"2\" halign=\"left\">est</th>\n    </tr>\n    <tr>\n      <th></th>\n      <th></th>\n      <th>mean</th>\n      <th>std</th>\n    </tr>\n  </thead>\n  <tbody>\n    <tr>\n      <th>0</th>\n      <td>EF</td>\n      <td>0.054470</td>\n      <td>0.039466</td>\n    </tr>\n    <tr>\n      <th>1</th>\n      <td>LF</td>\n      <td>0.175527</td>\n      <td>0.135708</td>\n    </tr>\n    <tr>\n      <th>2</th>\n      <td>ML</td>\n      <td>0.154246</td>\n      <td>0.064472</td>\n    </tr>\n  </tbody>\n</table>\n</div>"
     },
     "execution_count": 32,
     "metadata": {},
     "output_type": "execute_result"
    }
   ],
   "source": [
    "sns_plot = sns.violinplot(data=hormone_df, x=\"phase\", y=\"est\", order=[ \"EF\", \"LF\", \"ML\"])\n",
    "fig = sns_plot.get_figure()\n",
    "sns_plot.set(title=\"Estradiol (pg/mL)\")\n",
    "# fig.savefig(\"../Ovarian_hormone/Figures/Estradiol distribution.png\")\n",
    "plt.show()\n",
    "\n",
    "hormone_df.groupby('phase', as_index=False).agg({'est':['mean','std']})"
   ],
   "metadata": {
    "collapsed": false,
    "pycharm": {
     "name": "#%%\n"
    }
   }
  },
  {
   "cell_type": "markdown",
   "source": [
    "## Connectivity Strength\n",
    "Export connectivity strength data between two sets of nodes (1 set is the nodes belonging to a ROI, and 2nd set are\n",
    "the nodes belonging to a functional network). Data is then used to create LME model in R."
   ],
   "metadata": {
    "collapsed": false
   }
  },
  {
   "cell_type": "code",
   "execution_count": 20,
   "outputs": [
    {
     "name": "stderr",
     "output_type": "stream",
     "text": [
      "100%|██████████| 30/30 [00:00<00:00, 77.04it/s]"
     ]
    },
    {
     "name": "stdout",
     "output_type": "stream",
     "text": [
      "34\n"
     ]
    },
    {
     "name": "stderr",
     "output_type": "stream",
     "text": [
      "\n"
     ]
    }
   ],
   "source": [
    "joes_list =  {\"r\": [],\n",
    "              \"l\": [1031]}\n",
    "region_name = \"Thalamus Left\"\n",
    "\n",
    "ddfrois = {\"l\": [x-1 for x in joes_list[\"l\"]], \"r\": [x-1 for x in joes_list[\"r\"]]}\n",
    "m2 = ddfrois[\"l\"] + ddfrois[\"r\"]\n",
    "\n",
    "data_dict = {'module': [], 'cycle': [], 'phase': [], 'metric': []}\n",
    "moi = 6\n",
    "fname = f\"{region_name} - {ov_func.AVG_EF_FN_ACRYNOMS[moi]} connectivity\"\n",
    "\n",
    "for c in tqdm(range(30)):\n",
    "    if c in ov_func.REMOVE:\n",
    "        continue\n",
    "    cycle_W = get_cycle_adj_matrices(c)\n",
    "    ef_P = get_cycle_partitions(c)[0]\n",
    "    icn_nodes = np.where(np.array(ef_P) == moi)[0]\n",
    "    m = list(set(icn_nodes) - set(m2))\n",
    "\n",
    "    for phase_i, W in enumerate(cycle_W):\n",
    "        pos, neg = bnet.nodal_connectivity_strength(W, m2, m)\n",
    "\n",
    "        data_dict['module'].append(fname)\n",
    "        data_dict['cycle'].append(c)\n",
    "        data_dict['phase'].append(phase_map[phase_i])\n",
    "        data_dict['metric'].append(pos)\n",
    "\n",
    "connectivity_df = pd.DataFrame(data_dict)\n",
    "data_model_df = connectivity_df.merge(hormone_df, how='left', on=['cycle', 'phase'])\n",
    "data_model_df = data_model_df.dropna()\n",
    "print(len(data_model_df))"
   ],
   "metadata": {
    "collapsed": false,
    "pycharm": {
     "name": "#%%\n"
    }
   }
  },
  {
   "cell_type": "code",
   "execution_count": null,
   "outputs": [],
   "source": [
    "data_model_df.to_csv('../Ovarian_hormone/Dump/connectivity_strength_hormone_data.csv')"
   ],
   "metadata": {
    "collapsed": false,
    "pycharm": {
     "name": "#%%\n"
    }
   }
  },
  {
   "cell_type": "markdown",
   "source": [
    "# Interaction Strength\n",
    "Export interaction strength data between two sets of nodes (1 set is the nodes belonging to a ROI, and 2nd set are\n",
    "the nodes belonging to a functional network).\n",
    "Data is then used to create LME model in R."
   ],
   "metadata": {
    "collapsed": false
   }
  },
  {
   "cell_type": "code",
   "execution_count": null,
   "outputs": [],
   "source": [
    "P = myFunc.load_from_pickle(PICKLE_PATH, 'module_allegiance.pkl')"
   ],
   "metadata": {
    "collapsed": false,
    "pycharm": {
     "name": "#%%\n"
    }
   }
  },
  {
   "cell_type": "code",
   "execution_count": null,
   "outputs": [],
   "source": [
    "joes_list =  {\"r\": [832,835],\n",
    "              \"l\": [398,310]}\n",
    "region_name = \"Temporal pole\"\n",
    "\n",
    "ddfrois = {\"l\": [x-1 for x in joes_list[\"l\"]], \"r\": [x-1 for x in joes_list[\"r\"]]}\n",
    "data_dict = {'module': [], 'cycle': [], 'phase': [], 'metric': []}\n",
    "\n",
    "m2 =  ddfrois['l']+ ddfrois['r']\n",
    "moi = 5\n",
    "fname = f\"{region_name} - {ov_func.AVG_EF_FN_ACRYNOMS[moi]} interaction\"\n",
    "\n",
    "for c in tqdm(range(30)):\n",
    "    if c in ov_func.REMOVE:\n",
    "        continue\n",
    "    ef_P = get_cycle_partitions(c)[0]\n",
    "    icn_nodes = np.where(np.array(ef_P) == moi)[0]\n",
    "    m = set(icn_nodes) - set(m2)\n",
    "    for phase_i in range(3):\n",
    "        data_dict['module'].append(fname)\n",
    "        data_dict['cycle'].append(c)\n",
    "        data_dict['phase'].append(phase_map[phase_i])\n",
    "        data_dict['metric'].append(bnet.interaction_strength_of_nodes(P[phase_map[phase_i]], m2, m))\n",
    "connectivity_df = pd.DataFrame(data_dict)\n",
    "data_model_df = connectivity_df.merge(hormone_df, how='left', on=['cycle', 'phase'])\n",
    "data_model_df = data_model_df.dropna()\n",
    "print(len(data_model_df))"
   ],
   "metadata": {
    "collapsed": false,
    "pycharm": {
     "name": "#%%\n"
    }
   }
  },
  {
   "cell_type": "code",
   "execution_count": null,
   "outputs": [],
   "source": [
    "data_model_df.to_csv('../Ovarian_hormone/Dump/interaction_strength_hormone_data.csv')\n"
   ],
   "metadata": {
    "collapsed": false,
    "pycharm": {
     "name": "#%%\n"
    }
   }
  }
 ],
 "metadata": {
  "kernelspec": {
   "display_name": "Python 3",
   "language": "python",
   "name": "python3"
  },
  "language_info": {
   "codemirror_mode": {
    "name": "ipython",
    "version": 2
   },
   "file_extension": ".py",
   "mimetype": "text/x-python",
   "name": "python",
   "nbconvert_exporter": "python",
   "pygments_lexer": "ipython2",
   "version": "2.7.6"
  }
 },
 "nbformat": 4,
 "nbformat_minor": 0
}