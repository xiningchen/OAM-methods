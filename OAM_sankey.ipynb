{
 "cells": [
  {
   "cell_type": "markdown",
   "metadata": {
    "collapsed": true,
    "pycharm": {
     "name": "#%% md\n"
    }
   },
   "source": [
    "# Sankey diagram for switching communities\n",
    "- [Main source code reference](https://github.com/bhattbhavesh91/sankey-diagram-plotly-tutorial/blob/main/sankey-diagram-notebook.ipynb\n",
    ")\n",
    "- [Plotly rendering document](https://plotly.com/python/renderers/)\n",
    "- Also contains code for creating custom LUT files for FSLEyes\n",
    "    - Move this code to it's own function for OAM project."
   ]
  },
  {
   "cell_type": "markdown",
   "source": [
    "Define the source and destination lists."
   ],
   "metadata": {
    "collapsed": false,
    "pycharm": {
     "name": "#%% md\n"
    }
   }
  },
  {
   "cell_type": "code",
   "execution_count": 1,
   "outputs": [
    {
     "name": "stdout",
     "output_type": "stream",
     "text": [
      "2108\n",
      "2108\n"
     ]
    }
   ],
   "source": [
    "import Towlson_group_code.data_io as myFunc\n",
    "import OVARIAN_functions as ov_fct\n",
    "from collections import Counter\n",
    "import pandas as pd\n",
    "# Import the sankey function from the sankey module within pySankey\n",
    "import plotly.graph_objects as go\n",
    "import plotly.io as pio\n",
    "pio.renderers.default = \"browser\"\n",
    "\n",
    "colors = {\n",
    "    \"EF DMN\": \"#FF3333\",\n",
    "    \"EF 2 DMN\": \"#FF3333\",\n",
    "    \"LF DMN\": \"#FF3333\",\n",
    "    \"ML DMN\": \"#FF3333\",\n",
    "    \"EF Somamotor\": \"#66B2FF\",\n",
    "    \"EF 2 Somamotor\": \"#66B2FF\",\n",
    "    \"LF Somamotor\": \"#66B2FF\",\n",
    "    \"ML Somamotor\": \"#66B2FF\",\n",
    "    \"EF Visual\": \"#B266FF\",\n",
    "    \"EF 2 Visual\": \"#B266FF\",\n",
    "    \"LF Visual\": \"#B266FF\",\n",
    "    \"ML Visual\": \"#B266FF\",\n",
    "    \"EF Frontoparietal\": \"#FFB266\",\n",
    "    \"EF 2 Frontoparietal\": \"#FFB266\",\n",
    "    \"LF Frontoparietal\": \"#FFB266\",\n",
    "    \"ML Frontoparietal\": \"#FFB266\",\n",
    "    \"EF Dorsal Attention\": \"#00994C\",\n",
    "    \"EF 2 Dorsal Attention\": \"#00994C\",\n",
    "    \"LF Dorsal Attention\": \"#00994C\",\n",
    "    \"ML Dorsal Attention\": \"#00994C\",\n",
    "    \"EF Ventral Attention\": \"#FFCCFF\",\n",
    "    \"EF 2 Ventral Attention\": \"#FFCCFF\",\n",
    "    \"LF Ventral Attention\": \"#FFCCFF\",\n",
    "    \"ML Ventral Attention\": \"#FFCCFF\",\n",
    "    \"EF Limbic\": \"#F5d414\",\n",
    "    \"EF 2 Limbic\": \"#F5d414\",\n",
    "    \"LF Limbic\": \"#F5d414\",\n",
    "    \"ML Limbic\": \"#F5d414\",\n",
    "    \"EF Auditory\": \"#C90076\",\n",
    "    \"EF 2 Auditory\": \"#C90076\",\n",
    "    \"LF Auditory\": \"#C90076\",\n",
    "    \"ML Auditory\": \"#C90076\",\n",
    "    \"EF Unknown\": \"#E0E0E0\",\n",
    "    \"EF 2 Unknown\": \"#E0E0E0\",\n",
    "    \"LF Unknown\": \"#E0E0E0\",\n",
    "    \"ML Unknown\": \"#E0E0E0\"\n",
    "}\n",
    "# -------------------------------------------------\n",
    "source = []\n",
    "dest = []\n",
    "# all_cycles = myFunc.load_from_pickle('../Ovarian_hormone/pickles/', 'all_cycles.pkl')\n",
    "c = 'Representative Subject Level'\n",
    "# cycle = all_cycles[c]\n",
    "# print(cycle)\n",
    "for phase in ['EF', 'LF']:\n",
    "    if phase == 'EF':\n",
    "        # partition = myFunc.load_from_pickle('../Ovarian_hormone/pickles/best_subject_auditory/', f'{cycle[0]}_auditory.pkl')\n",
    "        partition = myFunc.load_from_pickle('../Ovarian_hormone/pickles/', 'EF_best_partition_auditory.pkl')\n",
    "        # partition = myFunc.load_from_pickle('../Ovarian_hormone/pickles/', 'group_avg_20_ef_partition_sig_null_model_25092023.pkl')\n",
    "    if phase == 'LF':\n",
    "        # partition = myFunc.load_from_pickle('../Ovarian_hormone/pickles/hypothesis_tested/', f'cycle_{c}_LF_partition_auditory_EF.pkl')\n",
    "        partition = myFunc.load_from_pickle('../Ovarian_hormone/pickles/hypothesis_tested/', 'avg_LF_partition_auditory_EF.pkl')\n",
    "        # partition = myFunc.load_from_pickle('../Ovarian_hormone/pickles/', 'group_avg_20_lf_partition_ml_sig_null_model_25092023.pkl')\n",
    "    # if phase == 'ML':\n",
    "    #     partition = myFunc.load_from_pickle('../Ovarian_hormone/pickles/', 'group_avg_20_ml_partition_ef_sig_null_model_25092023.pkl')\n",
    "\n",
    "    source += [f'{phase} {ov_fct.AVG_EF_FN_AUDITORY[p]}' for p in partition]\n",
    "\n",
    "for i, phase in enumerate(['LF', 'ML']):\n",
    "    if phase == 'ML':\n",
    "        if i == 1:\n",
    "            # partition = myFunc.load_from_pickle('../Ovarian_hormone/pickles/hypothesis_tested/', f'cycle_{c}_ML_partition_auditory_LF.pkl')\n",
    "            partition = myFunc.load_from_pickle('../Ovarian_hormone/pickles/hypothesis_tested/', 'avg_ML_partition_auditory_LF.pkl')\n",
    "            # partition = myFunc.load_from_pickle('../Ovarian_hormone/pickles/', 'group_avg_20_ml_partition_sig_null_model_25092023.pkl')\n",
    "        if i == 0:\n",
    "            # partition = myFunc.load_from_pickle('../Ovarian_hormone/pickles/hypothesis_tested/', f'cycle_{c}_ML_partition_auditory_EF.pkl')\n",
    "            partition = myFunc.load_from_pickle('../Ovarian_hormone/pickles/hypothesis_tested/', 'avg_ML_partition_auditory_EF.pkl')\n",
    "            # partition = myFunc.load_from_pickle('../Ovarian_hormone/pickles/', 'group_avg_20_ml_partition_ef_sig_null_model_25092023.pkl')\n",
    "    if phase == 'LF':\n",
    "        # partition = myFunc.load_from_pickle('../Ovarian_hormone/pickles/hypothesis_tested/', f'cycle_{c}_LF_partition_auditory_EF.pkl')\n",
    "        partition = myFunc.load_from_pickle('../Ovarian_hormone/pickles/hypothesis_tested/', 'avg_LF_partition_auditory_EF.pkl')\n",
    "        # partition = myFunc.load_from_pickle('../Ovarian_hormone/pickles/', 'group_avg_20_lf_partition_sig_null_model_25092023.pkl')\n",
    "    # if phase == 'EF':\n",
    "    #     partition = myFunc.load_from_pickle('../Ovarian_hormone/pickles/', 'group_avg_20_ef_partition_2_sig_null_model_25092023.pkl')\n",
    "    #     dest += [f'{phase} 2 {ov_fct.AVG_EF_FN_AUDITORY[p]}' for p in partition]\n",
    "    if phase != 'EF':\n",
    "        dest += [f'{phase} {ov_fct.AVG_EF_FN_AUDITORY[p]}' for p in partition]\n",
    "\n",
    "print(len(source))\n",
    "print(len(dest))"
   ],
   "metadata": {
    "collapsed": false,
    "pycharm": {
     "name": "#%%\n"
    }
   }
  },
  {
   "cell_type": "markdown",
   "source": [
    "Generates the values of branches to be the number of occurance of a type of \"switch\"."
   ],
   "metadata": {
    "collapsed": false,
    "pycharm": {
     "name": "#%% md\n"
    }
   }
  },
  {
   "cell_type": "code",
   "execution_count": 2,
   "outputs": [
    {
     "name": "stdout",
     "output_type": "stream",
     "text": [
      "('EF Frontoparietal', 'LF Dorsal Attention', 29)\n",
      "('EF DMN', 'LF Dorsal Attention', 21)\n",
      "('EF Somamotor', 'LF Dorsal Attention', 18)\n",
      "('EF Ventral Attention', 'LF Unknown', 17)\n",
      "('EF Somamotor', 'LF Ventral Attention', 15)\n",
      "('EF Visual', 'LF Dorsal Attention', 12)\n",
      "('EF Ventral Attention', 'LF Dorsal Attention', 9)\n",
      "('EF DMN', 'LF Limbic', 7)\n",
      "('EF Frontoparietal', 'LF Visual', 6)\n",
      "('EF Ventral Attention', 'LF Limbic', 5)\n",
      "('EF Frontoparietal', 'LF Ventral Attention', 4)\n",
      "('EF Frontoparietal', 'LF DMN', 4)\n",
      "('EF Dorsal Attention', 'LF Ventral Attention', 3)\n",
      "('EF Limbic', 'LF Dorsal Attention', 2)\n",
      "('EF Frontoparietal', 'LF Limbic', 2)\n",
      "('EF Somamotor', 'LF Auditory', 2)\n",
      "('EF Frontoparietal', 'LF Unknown', 2)\n",
      "('EF DMN', 'LF Unknown', 2)\n",
      "('EF Visual', 'LF Limbic', 1)\n",
      "('EF Dorsal Attention', 'LF Auditory', 1)\n",
      "('EF Dorsal Attention', 'LF Somamotor', 1)\n",
      "('EF Limbic', 'LF DMN', 1)\n",
      "\n",
      "('LF Dorsal Attention', 'ML Frontoparietal', 19)\n",
      "('LF Ventral Attention', 'ML Frontoparietal', 9)\n",
      "('LF Dorsal Attention', 'ML DMN', 9)\n",
      "('LF Visual', 'ML Frontoparietal', 7)\n",
      "('LF Somamotor', 'ML Dorsal Attention', 5)\n",
      "('LF DMN', 'ML Frontoparietal', 5)\n",
      "('LF Limbic', 'ML Dorsal Attention', 5)\n",
      "('LF DMN', 'ML Dorsal Attention', 5)\n",
      "('LF Dorsal Attention', 'ML Unknown', 4)\n",
      "('LF Visual', 'ML Dorsal Attention', 3)\n",
      "('LF Ventral Attention', 'ML Somamotor', 3)\n",
      "('LF Ventral Attention', 'ML Dorsal Attention', 3)\n",
      "('LF Frontoparietal', 'ML Dorsal Attention', 2)\n",
      "('LF Unknown', 'ML Ventral Attention', 2)\n",
      "('LF Ventral Attention', 'ML Unknown', 2)\n",
      "('LF Limbic', 'ML DMN', 2)\n",
      "('LF Unknown', 'ML DMN', 2)\n",
      "('LF Dorsal Attention', 'ML Limbic', 1)\n",
      "('LF Limbic', 'ML Ventral Attention', 1)\n",
      "('LF Ventral Attention', 'ML Auditory', 1)\n",
      "('LF Somamotor', 'ML Unknown', 1)\n",
      "('LF Frontoparietal', 'ML DMN', 1)\n",
      "\n",
      "\n",
      "\n"
     ]
    }
   ],
   "source": [
    "temp = []\n",
    "for i, s in enumerate(source):\n",
    "    temp.append(s + \"->\" + dest[i])\n",
    "val_counter = Counter(temp)\n",
    "data = []\n",
    "ef_lf_branch_size = []\n",
    "lf_ml_branch_size = []\n",
    "ml_ef_branch_size = []\n",
    "for s, val in val_counter.items():\n",
    "    x = s.split(\"->\")\n",
    "    data.append([x[0], x[1], val])\n",
    "\n",
    "    phase = x[0].split(\" \")[0]\n",
    "    source_fn = x[0].split(\" \", 1)[1]\n",
    "    dest_fn = x[1].split(\" \", 1)[-1]\n",
    "    if '2' in dest_fn:\n",
    "        dest_fn = dest_fn.replace('2', ' ').strip()\n",
    "\n",
    "    if source_fn != dest_fn:\n",
    "        if phase == \"EF\":\n",
    "            ef_lf_branch_size.append((x[0], x[1], val))\n",
    "        elif phase == \"LF\":\n",
    "            lf_ml_branch_size.append((x[0], x[1], val))\n",
    "        elif phase == \"ML\":\n",
    "            ml_ef_branch_size.append((x[0], 'EF ' + dest_fn, val))\n",
    "\n",
    "\n",
    "ef_lf_sorted_branches = sorted(ef_lf_branch_size, key=lambda bs: bs[2], reverse=True)\n",
    "lf_ml_sorted_branches = sorted(lf_ml_branch_size, key=lambda bs: bs[2], reverse=True)\n",
    "ml_ef_sorted_branches = sorted(ml_ef_branch_size, key=lambda bs: bs[2], reverse=True)\n",
    "\n",
    "print(*ef_lf_sorted_branches, sep=\"\\n\")\n",
    "print()\n",
    "print(*lf_ml_sorted_branches, sep=\"\\n\")\n",
    "print()\n",
    "print(*ml_ef_sorted_branches, sep=\"\\n\")\n",
    "print()"
   ],
   "metadata": {
    "collapsed": false,
    "pycharm": {
     "name": "#%%\n"
    }
   }
  },
  {
   "cell_type": "markdown",
   "source": [
    "We can modify the value to show different or more information. For example, the value can be number of occurances *and*\n",
    "the cycle number + PID. To do this, we would need to track the cycle number and PID of each src to destination entry above."
   ],
   "metadata": {
    "collapsed": false,
    "pycharm": {
     "name": "#%% md\n"
    }
   }
  },
  {
   "cell_type": "code",
   "execution_count": null,
   "outputs": [],
   "source": [
    "# some code."
   ],
   "metadata": {
    "collapsed": false,
    "pycharm": {
     "name": "#%%\n"
    }
   }
  },
  {
   "cell_type": "markdown",
   "source": [
    "# Plot Sankey"
   ],
   "metadata": {
    "collapsed": false,
    "pycharm": {
     "name": "#%% md\n"
    }
   }
  },
  {
   "cell_type": "code",
   "execution_count": 3,
   "outputs": [],
   "source": [
    "links_df = pd.DataFrame(data, columns=['source', 'target', 'value'])\n",
    "unique_source_target = list(pd.unique(links_df[['source', 'target']].values.ravel('K')))\n",
    "# print(unique_source_target)\n",
    "mapping_dict = {k: v for v, k in enumerate(unique_source_target)}\n",
    "links_df['source'] = links_df['source'].map(mapping_dict)\n",
    "links_df['target'] = links_df['target'].map(mapping_dict)\n",
    "links_dict = links_df.to_dict(orient='list')\n",
    "reverse_mapping_dict = {v: k for k, v in mapping_dict.items()}\n",
    "\n",
    "fig = go.Figure(data=[go.Sankey(\n",
    "    # Self-define position of node labels\n",
    "    arrangement='snap',\n",
    "    # Define nodes\n",
    "    node = dict(\n",
    "      pad = 15,\n",
    "      thickness = 15,\n",
    "      # line = dict(color = \"black\", width = 0.5),\n",
    "      label =  unique_source_target,\n",
    "      color =  [colors[l] for l in unique_source_target]\n",
    "    ),\n",
    "    # Add links\n",
    "    link = dict(\n",
    "      source = links_dict[\"source\"],\n",
    "      target = links_dict[\"target\"],\n",
    "      value = links_dict[\"value\"],\n",
    "      label =  links_dict[\"source\"],\n",
    "      color =  [colors[reverse_mapping_dict[s_idx]] for s_idx in links_dict[\"source\"]]\n",
    "))])\n",
    "# fig.update_layout(title_text=f\"Group Level Temporal Evolution of Functional Networks (20)\", font_size=10)\n",
    "fig.update_layout(title_text=f\"Averaged Connectome: Temporal Evolution of Functional Networks (30)\", font_size=10)\n",
    "fig.show()"
   ],
   "metadata": {
    "collapsed": false,
    "pycharm": {
     "name": "#%%\n"
    }
   }
  },
  {
   "cell_type": "markdown",
   "source": [
    "# Exporting LUT files"
   ],
   "metadata": {
    "collapsed": false,
    "pycharm": {
     "name": "#%% md\n"
    }
   }
  },
  {
   "cell_type": "code",
   "execution_count": null,
   "outputs": [],
   "source": [
    "import OVARIAN_functions as ov_fct\n",
    "import importlib\n",
    "importlib.reload(ov_fct)\n",
    "cycle = myFunc.load_from_pickle('../Ovarian_hormone/pickles/', 'cycles_list.pkl')[18]\n",
    "a = cycle[0]\n",
    "a_partition = myFunc.load_from_pickle('../Ovarian_hormone/pickles/best_subject_auditory/', f'{a}_auditory.pkl')\n",
    "ov_fct.create_subcortical_lut(a_partition, f'{a}')\n",
    "ov_fct.create_cortical_lut(a_partition, f'{a}')"
   ],
   "metadata": {
    "collapsed": false,
    "pycharm": {
     "name": "#%%\n"
    }
   }
  },
  {
   "cell_type": "code",
   "execution_count": null,
   "outputs": [],
   "source": [
    "a = cycle[0]\n",
    "b = cycle[2]\n",
    "a_partition = myFunc.load_from_pickle('../Ovarian_hormone/pickles/best_subject_auditory/', f'{a}_auditory.pkl')\n",
    "b_partition = myFunc.load_from_pickle('../Ovarian_hormone/pickles/best_subject_auditory/', f'{b}_auditory.pkl')\n",
    "for i in range(1054):\n",
    "    if a_partition[i] != b_partition[i]:\n",
    "        b_partition[i] = -1\n",
    "ov_fct.create_cortical_lut(b_partition, f'{a}_{b[:2]}_rois')\n",
    "ov_fct.create_subcortical_lut(b_partition, f'{a}_{b[:2]}_rois')"
   ],
   "metadata": {
    "collapsed": false,
    "pycharm": {
     "name": "#%%\n"
    }
   }
  },
  {
   "cell_type": "markdown",
   "source": [
    "## Printing out switched node list"
   ],
   "metadata": {
    "collapsed": false,
    "pycharm": {
     "name": "#%% md\n"
    }
   }
  },
  {
   "cell_type": "code",
   "execution_count": 158,
   "outputs": [],
   "source": [
    "a = 'EF'\n",
    "b = 'ML'\n",
    "a_partition = myFunc.load_from_pickle('../Ovarian_hormone/pickles/', f'{a}_best_partition_auditory.pkl')\n",
    "b_partition = myFunc.load_from_pickle('../Ovarian_hormone/pickles/hypothesis_tested/', f'{b}_best_partition_auditory_EF.pkl')\n",
    "node_list = ov_fct.get_node_list()\n",
    "switched = \"\"\n",
    "for i in range(1054):\n",
    "    if a_partition[i] != b_partition[i]:\n",
    "        switched += node_list['region_name'][i] + \"\\n\"\n",
    "\n",
    "with open('../Ovarian_hormone/Dump/moving_nodes.txt', 'w') as f:\n",
    "    f.write(switched)\n",
    "\n"
   ],
   "metadata": {
    "collapsed": false,
    "pycharm": {
     "name": "#%%\n"
    }
   }
  }
 ],
 "metadata": {
  "kernelspec": {
   "display_name": "Python 3",
   "language": "python",
   "name": "python3"
  },
  "language_info": {
   "codemirror_mode": {
    "name": "ipython",
    "version": 2
   },
   "file_extension": ".py",
   "mimetype": "text/x-python",
   "name": "python",
   "nbconvert_exporter": "python",
   "pygments_lexer": "ipython2",
   "version": "2.7.6"
  }
 },
 "nbformat": 4,
 "nbformat_minor": 0
}